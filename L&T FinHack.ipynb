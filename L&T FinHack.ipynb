{
 "cells": [
  {
   "cell_type": "markdown",
   "metadata": {},
   "source": [
    "# Import & read data"
   ]
  },
  {
   "cell_type": "code",
   "execution_count": 89,
   "metadata": {},
   "outputs": [],
   "source": [
    "import lightgbm as lgb\n",
    "import pandas as pd\n",
    "import numpy as np\n",
    "from datetime import datetime\n",
    "from pathlib import Path\n",
    "from sklearn.model_selection import StratifiedKFold\n",
    "from sklearn.model_selection import RepeatedStratifiedKFold, KFold"
   ]
  },
  {
   "cell_type": "code",
   "execution_count": 90,
   "metadata": {},
   "outputs": [],
   "source": [
    "import re"
   ]
  },
  {
   "cell_type": "code",
   "execution_count": 91,
   "metadata": {},
   "outputs": [],
   "source": [
    "import functools"
   ]
  },
  {
   "cell_type": "code",
   "execution_count": 92,
   "metadata": {},
   "outputs": [],
   "source": [
    "import matplotlib.pyplot as plt\n",
    "import seaborn as sns\n",
    "%matplotlib inline\n",
    "sns.set(style=\"darkgrid\")"
   ]
  },
  {
   "cell_type": "code",
   "execution_count": 93,
   "metadata": {},
   "outputs": [],
   "source": [
    "from sklearn.metrics import roc_auc_score\n",
    "from sklearn.model_selection import KFold"
   ]
  },
  {
   "cell_type": "code",
   "execution_count": 94,
   "metadata": {},
   "outputs": [],
   "source": [
    "from sklearn.metrics import roc_auc_score, precision_recall_curve, roc_curve, average_precision_score\n",
    "from lightgbm import LGBMClassifier\n",
    "import gc"
   ]
  },
  {
   "cell_type": "code",
   "execution_count": 95,
   "metadata": {},
   "outputs": [],
   "source": [
    "train_df = pd.read_csv('train.csv')\n",
    "test_df = pd.read_csv('test.csv')"
   ]
  },
  {
   "cell_type": "code",
   "execution_count": 97,
   "metadata": {},
   "outputs": [
    {
     "name": "stderr",
     "output_type": "stream",
     "text": [
      "C:\\Users\\Soumik\\Anaconda3\\lib\\site-packages\\sklearn\\model_selection\\_split.py:2179: FutureWarning: From version 0.21, test_size will always complement train_size unless both are specified.\n",
      "  FutureWarning)\n",
      "C:\\Users\\Soumik\\Anaconda3\\lib\\site-packages\\pandas\\core\\frame.py:3697: SettingWithCopyWarning: \n",
      "A value is trying to be set on a copy of a slice from a DataFrame\n",
      "\n",
      "See the caveats in the documentation: http://pandas.pydata.org/pandas-docs/stable/indexing.html#indexing-view-versus-copy\n",
      "  errors=errors)\n"
     ]
    }
   ],
   "source": [
    "# Train test\n",
    "\n",
    "from sklearn.model_selection import train_test_split\n",
    "\n",
    "train_back, test_back, _ , y_test = train_test_split(train_df, train_df['loan_default'], random_state = 40, train_size = 0.6)\n",
    "test_back.drop('loan_default', inplace = True, axis = 1)\n",
    "\n",
    "train = train_back.copy()\n",
    "test = test_back.copy()"
   ]
  },
  {
   "cell_type": "code",
   "execution_count": 167,
   "metadata": {},
   "outputs": [],
   "source": [
    "# Whole Dataset\n",
    "train = train_df.copy()\n",
    "test = test_df.copy()"
   ]
  },
  {
   "cell_type": "code",
   "execution_count": 168,
   "metadata": {},
   "outputs": [
    {
     "data": {
      "text/plain": [
       "((233154, 41), (112392, 40))"
      ]
     },
     "execution_count": 168,
     "metadata": {},
     "output_type": "execute_result"
    }
   ],
   "source": [
    "train.shape, test.shape"
   ]
  },
  {
   "cell_type": "code",
   "execution_count": 10,
   "metadata": {},
   "outputs": [],
   "source": [
    "T = train.shape[0]\n",
    "P = len(train[train['loan_default'] == 1])\n",
    "# scale_pos_weight = percent of negative / percent of positive\n",
    "# which translates to:\n",
    "# scale_pos_weight = (100*(T-P)/T) / (100*P/T)\n",
    "# which further simplifies to beautiful:\n",
    "scale_pos_weight = T/P - 1"
   ]
  },
  {
   "cell_type": "code",
   "execution_count": 11,
   "metadata": {},
   "outputs": [
    {
     "data": {
      "text/plain": [
       "3.606785086246073"
      ]
     },
     "execution_count": 11,
     "metadata": {},
     "output_type": "execute_result"
    }
   ],
   "source": [
    "scale_pos_weight"
   ]
  },
  {
   "cell_type": "code",
   "execution_count": 169,
   "metadata": {
    "code_folding": [
     0
    ]
   },
   "outputs": [],
   "source": [
    "def augment(train,num_n=1,num_p=2):\n",
    "    newtrain=[train]\n",
    "    \n",
    "    n=train[train.loan_default==0]\n",
    "    for i in range(num_n):\n",
    "        newtrain.append(n.apply(lambda x:x.values.take(np.random.permutation(len(n)))))\n",
    "    \n",
    "    for i in range(num_p):\n",
    "        p=train[train.loan_default>0]\n",
    "        newtrain.append(p.apply(lambda x:x.values.take(np.random.permutation(len(p)))))\n",
    "    return pd.concat(newtrain)"
   ]
  },
  {
   "cell_type": "markdown",
   "metadata": {},
   "source": [
    "# Pre-processing"
   ]
  },
  {
   "cell_type": "code",
   "execution_count": 170,
   "metadata": {},
   "outputs": [],
   "source": [
    "train[['AVERAGE.ACCT.AGE', 'CREDIT.HISTORY.LENGTH']] = train[['AVERAGE.ACCT.AGE', 'CREDIT.HISTORY.LENGTH']].applymap( lambda z: functools.reduce(lambda a,b : 12*a+b, [int(s) for s in re.findall(r'\\d+', z)]));\n",
    "test[['AVERAGE.ACCT.AGE', 'CREDIT.HISTORY.LENGTH']] = test[['AVERAGE.ACCT.AGE', 'CREDIT.HISTORY.LENGTH']].applymap( lambda z: functools.reduce(lambda a,b : 12*a+b, [int(s) for s in re.findall(r'\\d+', z)]));"
   ]
  },
  {
   "cell_type": "code",
   "execution_count": 171,
   "metadata": {
    "code_folding": []
   },
   "outputs": [],
   "source": [
    "#Clip outliers\n",
    "num_col = ['PRI.NO.OF.ACCTS', 'AVERAGE.ACCT.AGE',\n",
    "       'CREDIT.HISTORY.LENGTH', 'PERFORM_CNS.SCORE', 'SEC.INSTAL.AMT',\n",
    "       'SEC.SANCTIONED.AMOUNT', 'SEC.DISBURSED.AMOUNT',\n",
    "       'SEC.CURRENT.BALANCE', 'ltv', \n",
    "       'disbursed_amount', 'PRIMARY.INSTAL.AMT',\n",
    "       'PRI.SANCTIONED.AMOUNT', 'asset_cost', 'PRI.DISBURSED.AMOUNT',\n",
    "       'PRI.CURRENT.BALANCE']\n",
    "for c in num_col:\n",
    "    train[c] = train[c].clip(lower=(train[c].mean() - 3*train[c].std()), upper=(train[c].mean() + 3*train[c].std()))\n",
    "    test[c] = test[c].clip(lower=(test[c].mean() - 3*test[c].std()), upper=(test[c].mean() + 3*test[c].std()))"
   ]
  },
  {
   "cell_type": "code",
   "execution_count": 172,
   "metadata": {},
   "outputs": [],
   "source": [
    "train['Date.of.Birth'] = train['Date.of.Birth'].apply(pd.to_datetime).dt.year.apply(lambda x: x if x<2010 else x - 100).apply(int)\n",
    "test['Date.of.Birth'] = test['Date.of.Birth'].apply(pd.to_datetime).dt.year.apply(lambda x: x if x<2010 else x - 100).apply(int)"
   ]
  },
  {
   "cell_type": "code",
   "execution_count": 173,
   "metadata": {
    "code_folding": [
     0
    ]
   },
   "outputs": [],
   "source": [
    "def add_datepart(df, fldname, feat, drop=True):\n",
    "    fld = df[fldname]\n",
    "    if not np.issubdtype(fld.dtype, np.datetime64):\n",
    "        df[fldname] = fld = pd.to_datetime(fld, infer_datetime_format=True)\n",
    "    targ_pre = re.sub('[Dd]ate$', '', fldname)\n",
    "    for n in feat:\n",
    "        df[targ_pre+n] = getattr(fld.dt,n.lower())\n",
    "    df[targ_pre+'Elapsed'] = fld.astype(np.int64) // 10**9\n",
    "    if drop: df.drop(fldname, axis=1, inplace=True)"
   ]
  },
  {
   "cell_type": "code",
   "execution_count": 174,
   "metadata": {
    "code_folding": [
     0
    ]
   },
   "outputs": [],
   "source": [
    "# QUESTIONABLE\n",
    "\n",
    "Disburs_feat = ('Month', 'Week', 'Is_month_end', 'Is_month_start', 'Is_quarter_end', 'Is_quarter_start', 'Is_year_end', 'Is_year_start')\n",
    "\n",
    "add_datepart(train, 'DisbursalDate', Disburs_feat, drop = True)\n",
    "add_datepart(test, 'DisbursalDate', Disburs_feat, drop = True)"
   ]
  },
  {
   "cell_type": "code",
   "execution_count": 175,
   "metadata": {
    "code_folding": [
     0
    ]
   },
   "outputs": [],
   "source": [
    "# Feature ENGG on numerical\n",
    "\n",
    "features = num_col\n",
    "\n",
    "def feat_augment_df(df):\n",
    "    for feature in features:\n",
    "        df[f'sq_{feature}'] = df[feature]**2\n",
    "        df[f'repo_{feature}'] = df[feature].apply(lambda x: 0 if x==0 else 1/x)\n",
    "    df['min'] = df[features].min(axis=1)\n",
    "    df['mean'] = df[features].mean(axis=1)\n",
    "    df['max'] = df[features].max(axis=1)\n",
    "    df['median'] = df[features].median(axis=1)\n",
    "    df['std'] = df[features].std(axis=1)\n",
    "    df['var'] = df[features].var(axis=1)\n",
    "    df['abs_mean'] = df[features].abs().mean(axis=1)\n",
    "    df['abs_median'] = df[features].abs().median(axis=1)\n",
    "    df['abs_std'] = df[features].abs().std(axis=1)\n",
    "    df['skew'] = df[features].skew(axis=1)\n",
    "    df['kurt'] = df[features].kurt(axis=1)\n",
    "    df['sq_kurt'] = df[[f'sq_{feature}' for feature in features]].kurt(axis=1)"
   ]
  },
  {
   "cell_type": "code",
   "execution_count": 176,
   "metadata": {},
   "outputs": [
    {
     "name": "stdout",
     "output_type": "stream",
     "text": [
      "Wall time: 536 µs\n"
     ]
    }
   ],
   "source": [
    "%time\n",
    "feat_augment_df(train)\n",
    "feat_augment_df(test)"
   ]
  },
  {
   "cell_type": "code",
   "execution_count": 177,
   "metadata": {
    "code_folding": [
     0,
     4,
     26
    ]
   },
   "outputs": [],
   "source": [
    "# Handle PERFORM_CNS.SCORE.DESCRIPTION\n",
    "\n",
    "x = np.ndarray(len(train))\n",
    "\n",
    "d = {\n",
    "     'No Bureau History Available' : 1, \n",
    "     'D-Very Low Risk': 0,\n",
    "     'A-Very Low Risk': 0,\n",
    "     'H-Medium Risk': 0,\n",
    "     'Not Scored: Only a Guarantor': 2,\n",
    "       'B-Very Low Risk': 0, \n",
    "       'E-Low Risk': 0, \n",
    "       'M-Very High Risk': 0,\n",
    "       'C-Very Low Risk': 0,\n",
    "       'Not Scored: No Activity seen on the customer (Inactive)': 3,\n",
    "       'J-High Risk': 0, \n",
    "       'F-Low Risk': 0, \n",
    "      'K-High Risk': 0, \n",
    "     'G-Low Risk': 0,\n",
    "       'Not Scored: Sufficient History Not Available': 4,\n",
    "       'Not Scored: Not Enough Info available on the customer': 5,\n",
    "       'I-Medium Risk': 0, 'L-Very High Risk': 0,\n",
    "       'Not Scored: No Updates available in last 36 months': 6,\n",
    "       'Not Scored: More than 50 active Accounts found': 7\n",
    "    }\n",
    "\n",
    "d1 = {\n",
    "    'A': 1,\n",
    "    'B': 2,\n",
    "    'C': 3,\n",
    "    'D': 4,\n",
    "    'E': 5,\n",
    "    'F': 6,\n",
    "    'G': 7,\n",
    "    'H': 8,\n",
    "    'I': 9,\n",
    "    'J': 10,\n",
    "    'K': 11,\n",
    "    'L': 12,\n",
    "    'M': 13\n",
    "}\n",
    "\n",
    "x = np.ndarray(len(train))\n",
    "y = np.ndarray(len(train))\n",
    "\n",
    "for i, text in enumerate(train['PERFORM_CNS.SCORE.DESCRIPTION']):\n",
    "    x[i] = d[text]\n",
    "    if d[text] == 0:\n",
    "        y[i] = d1[text[0]]\n",
    "    else:\n",
    "        y[i] = 100000\n",
    "\n",
    "train['CNS_DESCRIPTION_CAT'] = x\n",
    "train['CNS_DESCRIPTION_NUM'] = y\n",
    "\n",
    "x = np.ndarray(len(test))\n",
    "y = np.ndarray(len(test))\n",
    "\n",
    "for i, text in enumerate(test['PERFORM_CNS.SCORE.DESCRIPTION']):\n",
    "    x[i] = d[text]\n",
    "    if d[text] == 0:\n",
    "        y[i] = d1[text[0]]\n",
    "    else:\n",
    "        y[i] = 100000\n",
    "\n",
    "test['CNS_DESCRIPTION_CAT'] = x\n",
    "test['CNS_DESCRIPTION_NUM'] = y\n"
   ]
  },
  {
   "cell_type": "code",
   "execution_count": 178,
   "metadata": {
    "code_folding": [
     0
    ]
   },
   "outputs": [],
   "source": [
    "d = { \n",
    "    'Salaried': 0,\n",
    "    'Self employed': 1,\n",
    "    np.nan: -1\n",
    "    }\n",
    "\n",
    "x = np.ndarray(len(train))\n",
    "for i, text in enumerate(train['Employment.Type']):\n",
    "    x[i] = d[text]\n",
    "\n",
    "train['Employment.Type'] = x\n",
    "\n",
    "x = np.ndarray(len(test))\n",
    "\n",
    "for i, text in enumerate(test['Employment.Type']):\n",
    "    x[i] = d[text]\n",
    "\n",
    "test['Employment.Type'] = x"
   ]
  },
  {
   "cell_type": "code",
   "execution_count": 179,
   "metadata": {},
   "outputs": [],
   "source": [
    "train.drop(['MobileNo_Avl_Flag', 'PERFORM_CNS.SCORE.DESCRIPTION'], inplace=True, axis=1)\n",
    "test.drop(['MobileNo_Avl_Flag', 'PERFORM_CNS.SCORE.DESCRIPTION'], inplace=True, axis=1)"
   ]
  },
  {
   "cell_type": "code",
   "execution_count": 180,
   "metadata": {},
   "outputs": [],
   "source": [
    "cat_feat = [\n",
    "'branch_id',\n",
    "'manufacturer_id',\n",
    "'State_ID',\n",
    "'Employment.Type',\n",
    "'Aadhar_flag',\n",
    "'PAN_flag',\n",
    "'VoterID_flag',\n",
    "'Driving_flag',\n",
    "'Passport_flag',\n",
    "'DisbursalIs_month_end', 'DisbursalIs_month_start',\n",
    "'DisbursalIs_quarter_end', 'DisbursalIs_quarter_start',\n",
    "'DisbursalIs_year_end', 'DisbursalIs_year_start'\n",
    "]\n"
   ]
  },
  {
   "cell_type": "code",
   "execution_count": 181,
   "metadata": {},
   "outputs": [],
   "source": [
    "for col in cat_feat:\n",
    "    train[col] = train[col].astype('category')\n",
    "    test[col] = test[col].astype('category')"
   ]
  },
  {
   "cell_type": "code",
   "execution_count": 182,
   "metadata": {},
   "outputs": [],
   "source": [
    "train_bak = train.copy()"
   ]
  },
  {
   "cell_type": "code",
   "execution_count": 183,
   "metadata": {},
   "outputs": [],
   "source": [
    "test_bak = test.copy()"
   ]
  },
  {
   "cell_type": "markdown",
   "metadata": {},
   "source": [
    "# Feature Engineering"
   ]
  },
  {
   "cell_type": "code",
   "execution_count": 184,
   "metadata": {},
   "outputs": [],
   "source": [
    " # train = train_bak.copy()\n",
    " # test = test_bak.copy()"
   ]
  },
  {
   "cell_type": "code",
   "execution_count": 185,
   "metadata": {
    "scrolled": true
   },
   "outputs": [],
   "source": [
    "freq_cols = ['disbursed_amount', 'asset_cost', 'ltv', 'branch_id',\n",
    "'supplier_id', 'manufacturer_id', 'Current_pincode_ID', 'Date.of.Birth',\n",
    "'Employment.Type', 'State_ID', 'Employee_code_ID', 'Aadhar_flag',\n",
    "'PAN_flag', 'VoterID_flag', 'Driving_flag', 'Passport_flag',\n",
    "'PERFORM_CNS.SCORE', 'PRI.NO.OF.ACCTS', 'PRI.ACTIVE.ACCTS',\n",
    "'PRI.OVERDUE.ACCTS', 'PRI.CURRENT.BALANCE', 'PRI.SANCTIONED.AMOUNT',\n",
    "'PRI.DISBURSED.AMOUNT', 'SEC.NO.OF.ACCTS', 'SEC.ACTIVE.ACCTS',\n",
    "'SEC.OVERDUE.ACCTS', 'SEC.CURRENT.BALANCE', 'SEC.SANCTIONED.AMOUNT',\n",
    "'SEC.DISBURSED.AMOUNT', 'PRIMARY.INSTAL.AMT', 'SEC.INSTAL.AMT',\n",
    "'NEW.ACCTS.IN.LAST.SIX.MONTHS', 'DELINQUENT.ACCTS.IN.LAST.SIX.MONTHS',\n",
    "'AVERAGE.ACCT.AGE', 'CREDIT.HISTORY.LENGTH', 'NO.OF_INQUIRIES', 'DisbursalMonth', 'CNS_DESCRIPTION_CAT',\n",
    "'CNS_DESCRIPTION_NUM']"
   ]
  },
  {
   "cell_type": "code",
   "execution_count": 186,
   "metadata": {},
   "outputs": [],
   "source": [
    "for col in freq_cols:\n",
    "    train[col+'_counts'] = train[col].map(train[col].value_counts())\n",
    "    test[col+'_counts'] = test[col].map(test[col].value_counts())    "
   ]
  },
  {
   "cell_type": "code",
   "execution_count": 187,
   "metadata": {
    "scrolled": true
   },
   "outputs": [],
   "source": [
    "train['asset_value'] = train['ltv'] * train['disbursed_amount']"
   ]
  },
  {
   "cell_type": "code",
   "execution_count": 188,
   "metadata": {},
   "outputs": [],
   "source": [
    "test['asset_value'] = test['ltv'] * test['disbursed_amount']"
   ]
  },
  {
   "cell_type": "code",
   "execution_count": 189,
   "metadata": {},
   "outputs": [],
   "source": [
    "PRI = ['PRI.NO.OF.ACCTS', 'PRI.ACTIVE.ACCTS', 'PRI.OVERDUE.ACCTS', 'PRI.CURRENT.BALANCE', 'PRI.SANCTIONED.AMOUNT', 'PRI.DISBURSED.AMOUNT', 'PRIMARY.INSTAL.AMT']\n",
    "SEC = ['SEC.NO.OF.ACCTS', 'SEC.ACTIVE.ACCTS', 'SEC.OVERDUE.ACCTS', 'SEC.CURRENT.BALANCE', 'SEC.SANCTIONED.AMOUNT', 'SEC.DISBURSED.AMOUNT', 'SEC.INSTAL.AMT']\n",
    "\n",
    "for i in range(6):\n",
    "    train[PRI[i][4:] + '_ADD'] = train[PRI[i]] + train[SEC[i]] "
   ]
  },
  {
   "cell_type": "code",
   "execution_count": 190,
   "metadata": {},
   "outputs": [],
   "source": [
    "for i in range(6):\n",
    "    test[PRI[i][4:] + '_ADD'] = test[PRI[i]] + test[SEC[i]] "
   ]
  },
  {
   "cell_type": "code",
   "execution_count": 191,
   "metadata": {},
   "outputs": [],
   "source": [
    "# num_col = list(set(num_col) - set(drop_features))\n",
    "# num_col"
   ]
  },
  {
   "cell_type": "code",
   "execution_count": 192,
   "metadata": {},
   "outputs": [],
   "source": [
    "# Wonder Blunder\n",
    "\n",
    "# vert_ag = ['branch_id', 'supplier_id', 'manufacturer_id', 'Current_pincode_ID', 'Date.of.Birth', 'State_ID', 'Employee_code_ID']\n",
    "\n",
    "# for m in vert_ag:\n",
    "#     temp = train.groupby(m, as_index = False).agg({n: ['mean', 'std', 'sum'] for n in num_col})\n",
    "#     temp.columns = [i + j for (i, j) in zip(temp.columns.get_level_values(0), temp.columns.get_level_values(1))]\n",
    "#     train = pd.merge(train, temp, on=m)\n",
    "    \n",
    "# for m in vert_ag:\n",
    "#     temp = test.groupby(m, as_index = False).agg({n: ['mean', 'std', 'sum'] for n in num_col})\n",
    "#     temp.columns = [i + j for (i, j) in zip(temp.columns.get_level_values(0), temp.columns.get_level_values(1))]\n",
    "#     test = pd.merge(test, temp, on=m)"
   ]
  },
  {
   "cell_type": "code",
   "execution_count": 193,
   "metadata": {},
   "outputs": [],
   "source": [
    "vert_ag = ['branch_id', 'supplier_id', 'manufacturer_id', 'Current_pincode_ID', 'Date.of.Birth', 'State_ID', 'Employee_code_ID']\n",
    "\n",
    "for m in vert_ag:\n",
    "    temp = train.groupby(m, as_index = False).agg({n: ['mean', 'std', 'sum'] for n in num_col})\n",
    "    temp.columns = [i + j for (i, j) in zip(temp.columns.get_level_values(0), temp.columns.get_level_values(1))]\n",
    "    train = train.merge(temp, how = 'left' , on=m)\n",
    "    \n",
    "for m in vert_ag:\n",
    "    temp = test.groupby(m, as_index = False).agg({n: ['mean', 'std', 'sum'] for n in num_col})\n",
    "    temp.columns = [i + j for (i, j) in zip(temp.columns.get_level_values(0), temp.columns.get_level_values(1))]\n",
    "    test = test.merge(temp, how = 'left' , on=m)"
   ]
  },
  {
   "cell_type": "code",
   "execution_count": 194,
   "metadata": {
    "code_folding": [
     0
    ]
   },
   "outputs": [],
   "source": [
    "money = ['PRI.DISBURSED.AMOUNT',\n",
    " 'PRI.CURRENT.BALANCE',\n",
    " 'disbursed_amount',\n",
    " 'PRIMARY.INSTAL.AMT',\n",
    " 'SEC.DISBURSED.AMOUNT',\n",
    " 'PRI.SANCTIONED.AMOUNT',\n",
    " 'asset_cost']"
   ]
  },
  {
   "cell_type": "code",
   "execution_count": 195,
   "metadata": {
    "code_folding": []
   },
   "outputs": [],
   "source": [
    "time = [\n",
    " 'CREDIT.HISTORY.LENGTH',\n",
    " 'AVERAGE.ACCT.AGE',\n",
    "]"
   ]
  },
  {
   "cell_type": "code",
   "execution_count": 196,
   "metadata": {},
   "outputs": [
    {
     "name": "stdout",
     "output_type": "stream",
     "text": [
      "Wall time: 3min 22s\n"
     ]
    }
   ],
   "source": [
    "%%time\n",
    "for i in money:\n",
    "    for j in money:\n",
    "        if i != j:\n",
    "            train[i+'-'+j] = train[i] - train[j]\n",
    "            train[i+'+'+j] = train[i] + train[j]\n",
    "            train[i+'*'+j] = train[i] * train[j]\n",
    "            train[i+'/'+j] = train[i] * train['repo_'+j]\n",
    "            \n",
    "            test[i+'-'+j] = test[i] - test[j]\n",
    "            test[i+'+'+j] = test[i] + test[j]\n",
    "            test[i+'*'+j] = test[i] * test[j]\n",
    "            test[i+'/'+j] = test[i] * test['repo_'+j]"
   ]
  },
  {
   "cell_type": "code",
   "execution_count": 197,
   "metadata": {},
   "outputs": [],
   "source": [
    "train_bak2 = train.copy()\n",
    "test_bak2 = test.copy()"
   ]
  },
  {
   "cell_type": "markdown",
   "metadata": {
    "heading_collapsed": true
   },
   "source": [
    "# [SKIP] Feature Importance "
   ]
  },
  {
   "cell_type": "code",
   "execution_count": 56,
   "metadata": {
    "code_folding": [],
    "hidden": true
   },
   "outputs": [],
   "source": [
    "def feat_imp(train):\n",
    "    \n",
    "    param = {\n",
    "    \"is_unbalance\" : True,\n",
    "    \"objective\" : \"binary\",\n",
    "    \"metric\" : \"auc\",\n",
    "    \"boosting\": 'gbdt',\n",
    "    \"max_depth\" : -1,\n",
    "    \"num_leaves\" : 13,\n",
    "    \"learning_rate\" : 0.004,\n",
    "    \"bagging_freq\": 5,\n",
    "    \"bagging_fraction\" : 0.4,\n",
    "    \"feature_fraction\" : 0.05,\n",
    "    \"min_data_in_leaf\": 80,\n",
    "    \"min_sum_heassian_in_leaf\": 10,\n",
    "    \"tree_learner\": \"serial\",\n",
    "    \"boost_from_average\": \"false\",\n",
    "    \"bagging_seed\" : 10,\n",
    "    \"verbosity\" : 1,\n",
    "#    \"categorical_feature\" : cat_feat\n",
    "#   \"scale_pos_weight\" : scale_pos_weight\n",
    "}\n",
    "    result=np.zeros(test.shape[0])\n",
    "    col = [i for i in train.columns if i != 'loan_default']\n",
    "\n",
    "    rskf = RepeatedStratifiedKFold(n_splits=2, n_repeats=1, random_state=10)\n",
    "    for counter,(train_index, valid_index) in enumerate(rskf.split(train, train.loan_default),1):\n",
    "        print (counter)\n",
    "\n",
    "        #Train data\n",
    "        t=train.iloc[train_index]\n",
    "        #t =augment(t)\n",
    "        trn_data = lgb.Dataset(t.drop(\"loan_default\",axis=1), label=t.loan_default, categorical_feature=cat_feat)\n",
    "\n",
    "        #Validation data\n",
    "        v=train.iloc[valid_index]\n",
    "        val_data = lgb.Dataset(v.drop(\"loan_default\",axis=1), label=v.loan_default, categorical_feature=cat_feat)\n",
    "\n",
    "        #Training\n",
    "        model = lgb.train(param, trn_data, 10000, valid_sets = [val_data], verbose_eval=1, early_stopping_rounds = 30)\n",
    "\n",
    "        fold_importance_df = pd.DataFrame()\n",
    "        fold_importance_df[\"feature\"] = col\n",
    "        fold_importance_df[\"importance\"] = model.feature_importance()\n",
    "        fold_importance_df[\"fold\"] = fold_ + 1\n",
    "\n",
    "        result +=model.predict(test)\n",
    "        \n",
    "    sort_fold_importance_df = fold_importance_df.sort_values(by = ['importance'], axis = 0, ascending = False)\n",
    "    return sort_fold_importance_df\n",
    "#    print(features)"
   ]
  },
  {
   "cell_type": "code",
   "execution_count": 57,
   "metadata": {
    "hidden": true,
    "scrolled": true
   },
   "outputs": [
    {
     "name": "stdout",
     "output_type": "stream",
     "text": [
      "1\n"
     ]
    },
    {
     "name": "stderr",
     "output_type": "stream",
     "text": [
      "C:\\Users\\soham\\Anaconda3\\lib\\site-packages\\lightgbm\\basic.py:1184: UserWarning: Using categorical_feature in Dataset.\n",
      "  warnings.warn('Using categorical_feature in Dataset.')\n",
      "C:\\Users\\soham\\Anaconda3\\lib\\site-packages\\lightgbm\\basic.py:742: UserWarning: categorical_feature in param dict is overridden.\n",
      "  warnings.warn('categorical_feature in param dict is overridden.')\n"
     ]
    },
    {
     "name": "stdout",
     "output_type": "stream",
     "text": [
      "[1]\tvalid_0's auc: 0.583775\n",
      "Training until validation scores don't improve for 30 rounds.\n",
      "[2]\tvalid_0's auc: 0.611756\n",
      "[3]\tvalid_0's auc: 0.617021\n",
      "[4]\tvalid_0's auc: 0.617733\n",
      "[5]\tvalid_0's auc: 0.619138\n",
      "[6]\tvalid_0's auc: 0.622924\n",
      "[7]\tvalid_0's auc: 0.629445\n",
      "[8]\tvalid_0's auc: 0.632976\n",
      "[9]\tvalid_0's auc: 0.63278\n",
      "[10]\tvalid_0's auc: 0.632662\n",
      "[11]\tvalid_0's auc: 0.635205\n",
      "[12]\tvalid_0's auc: 0.635068\n",
      "[13]\tvalid_0's auc: 0.634203\n",
      "[14]\tvalid_0's auc: 0.63364\n",
      "[15]\tvalid_0's auc: 0.633176\n",
      "[16]\tvalid_0's auc: 0.632192\n",
      "[17]\tvalid_0's auc: 0.631437\n",
      "[18]\tvalid_0's auc: 0.632099\n",
      "[19]\tvalid_0's auc: 0.63192\n",
      "[20]\tvalid_0's auc: 0.631561\n",
      "[21]\tvalid_0's auc: 0.632672\n",
      "[22]\tvalid_0's auc: 0.633161\n",
      "[23]\tvalid_0's auc: 0.63275\n",
      "[24]\tvalid_0's auc: 0.6331\n",
      "[25]\tvalid_0's auc: 0.633352\n",
      "[26]\tvalid_0's auc: 0.633185\n",
      "[27]\tvalid_0's auc: 0.634223\n",
      "[28]\tvalid_0's auc: 0.634376\n",
      "[29]\tvalid_0's auc: 0.634877\n",
      "[30]\tvalid_0's auc: 0.635879\n",
      "[31]\tvalid_0's auc: 0.635625\n",
      "[32]\tvalid_0's auc: 0.636169\n",
      "[33]\tvalid_0's auc: 0.636381\n",
      "[34]\tvalid_0's auc: 0.636356\n",
      "[35]\tvalid_0's auc: 0.63702\n",
      "[36]\tvalid_0's auc: 0.637559\n",
      "[37]\tvalid_0's auc: 0.637473\n",
      "[38]\tvalid_0's auc: 0.637773\n",
      "[39]\tvalid_0's auc: 0.637922\n",
      "[40]\tvalid_0's auc: 0.638063\n",
      "[41]\tvalid_0's auc: 0.638063\n",
      "[42]\tvalid_0's auc: 0.638281\n",
      "[43]\tvalid_0's auc: 0.638141\n",
      "[44]\tvalid_0's auc: 0.638049\n",
      "[45]\tvalid_0's auc: 0.637566\n",
      "[46]\tvalid_0's auc: 0.637184\n",
      "[47]\tvalid_0's auc: 0.637208\n",
      "[48]\tvalid_0's auc: 0.637225\n",
      "[49]\tvalid_0's auc: 0.637413\n",
      "[50]\tvalid_0's auc: 0.637455\n",
      "[51]\tvalid_0's auc: 0.637541\n",
      "[52]\tvalid_0's auc: 0.637358\n",
      "[53]\tvalid_0's auc: 0.637189\n",
      "[54]\tvalid_0's auc: 0.636985\n",
      "[55]\tvalid_0's auc: 0.637147\n",
      "[56]\tvalid_0's auc: 0.637091\n",
      "[57]\tvalid_0's auc: 0.63685\n",
      "[58]\tvalid_0's auc: 0.636801\n",
      "[59]\tvalid_0's auc: 0.636932\n",
      "[60]\tvalid_0's auc: 0.636638\n",
      "[61]\tvalid_0's auc: 0.636801\n",
      "[62]\tvalid_0's auc: 0.636781\n",
      "[63]\tvalid_0's auc: 0.636602\n",
      "[64]\tvalid_0's auc: 0.636711\n",
      "[65]\tvalid_0's auc: 0.636959\n",
      "[66]\tvalid_0's auc: 0.637079\n",
      "[67]\tvalid_0's auc: 0.636766\n",
      "[68]\tvalid_0's auc: 0.636797\n",
      "[69]\tvalid_0's auc: 0.637064\n",
      "[70]\tvalid_0's auc: 0.637026\n",
      "[71]\tvalid_0's auc: 0.637154\n",
      "[72]\tvalid_0's auc: 0.637207\n",
      "Early stopping, best iteration is:\n",
      "[42]\tvalid_0's auc: 0.638281\n"
     ]
    },
    {
     "ename": "NameError",
     "evalue": "name 'fold_' is not defined",
     "output_type": "error",
     "traceback": [
      "\u001b[1;31m---------------------------------------------------------------------------\u001b[0m",
      "\u001b[1;31mNameError\u001b[0m                                 Traceback (most recent call last)",
      "\u001b[1;32m<ipython-input-57-af2852cf532c>\u001b[0m in \u001b[0;36m<module>\u001b[1;34m\u001b[0m\n\u001b[1;32m----> 1\u001b[1;33m \u001b[0msort_fold_importance_df\u001b[0m \u001b[1;33m=\u001b[0m \u001b[0mfeat_imp\u001b[0m\u001b[1;33m(\u001b[0m\u001b[0mtrain\u001b[0m\u001b[1;33m)\u001b[0m\u001b[1;33m\u001b[0m\u001b[1;33m\u001b[0m\u001b[0m\n\u001b[0m\u001b[0;32m      2\u001b[0m \u001b[0mdrop_features\u001b[0m \u001b[1;33m=\u001b[0m \u001b[0msort_fold_importance_df\u001b[0m\u001b[1;33m[\u001b[0m\u001b[0msort_fold_importance_df\u001b[0m\u001b[1;33m[\u001b[0m\u001b[1;34m'importance'\u001b[0m\u001b[1;33m]\u001b[0m \u001b[1;33m<\u001b[0m \u001b[1;36m1\u001b[0m\u001b[1;33m]\u001b[0m\u001b[1;33m[\u001b[0m\u001b[1;34m'feature'\u001b[0m\u001b[1;33m]\u001b[0m\u001b[1;33m\u001b[0m\u001b[1;33m\u001b[0m\u001b[0m\n\u001b[0;32m      3\u001b[0m \u001b[0mtrain\u001b[0m\u001b[1;33m.\u001b[0m\u001b[0mdrop\u001b[0m\u001b[1;33m(\u001b[0m\u001b[0mdrop_features\u001b[0m\u001b[1;33m,\u001b[0m \u001b[0minplace\u001b[0m \u001b[1;33m=\u001b[0m \u001b[1;32mTrue\u001b[0m\u001b[1;33m,\u001b[0m \u001b[0maxis\u001b[0m \u001b[1;33m=\u001b[0m \u001b[1;36m1\u001b[0m\u001b[1;33m)\u001b[0m\u001b[1;33m\u001b[0m\u001b[1;33m\u001b[0m\u001b[0m\n\u001b[0;32m      4\u001b[0m \u001b[0mtest\u001b[0m\u001b[1;33m.\u001b[0m\u001b[0mdrop\u001b[0m\u001b[1;33m(\u001b[0m\u001b[0mdrop_features\u001b[0m\u001b[1;33m,\u001b[0m \u001b[0minplace\u001b[0m \u001b[1;33m=\u001b[0m \u001b[1;32mTrue\u001b[0m\u001b[1;33m,\u001b[0m \u001b[0maxis\u001b[0m \u001b[1;33m=\u001b[0m \u001b[1;36m1\u001b[0m\u001b[1;33m)\u001b[0m\u001b[1;33m\u001b[0m\u001b[1;33m\u001b[0m\u001b[0m\n\u001b[0;32m      5\u001b[0m \u001b[0mcat_feat\u001b[0m \u001b[1;33m=\u001b[0m \u001b[0mlist\u001b[0m\u001b[1;33m(\u001b[0m\u001b[0mset\u001b[0m\u001b[1;33m(\u001b[0m\u001b[0mcat_feat\u001b[0m\u001b[1;33m)\u001b[0m \u001b[1;33m-\u001b[0m \u001b[0mset\u001b[0m\u001b[1;33m(\u001b[0m\u001b[0mdrop_features\u001b[0m\u001b[1;33m)\u001b[0m\u001b[1;33m)\u001b[0m\u001b[1;33m\u001b[0m\u001b[1;33m\u001b[0m\u001b[0m\n",
      "\u001b[1;32m<ipython-input-56-e18da5ee9e03>\u001b[0m in \u001b[0;36mfeat_imp\u001b[1;34m(train)\u001b[0m\n\u001b[0;32m     43\u001b[0m         \u001b[0mfold_importance_df\u001b[0m\u001b[1;33m[\u001b[0m\u001b[1;34m\"feature\"\u001b[0m\u001b[1;33m]\u001b[0m \u001b[1;33m=\u001b[0m \u001b[0mcol\u001b[0m\u001b[1;33m\u001b[0m\u001b[1;33m\u001b[0m\u001b[0m\n\u001b[0;32m     44\u001b[0m         \u001b[0mfold_importance_df\u001b[0m\u001b[1;33m[\u001b[0m\u001b[1;34m\"importance\"\u001b[0m\u001b[1;33m]\u001b[0m \u001b[1;33m=\u001b[0m \u001b[0mmodel\u001b[0m\u001b[1;33m.\u001b[0m\u001b[0mfeature_importance\u001b[0m\u001b[1;33m(\u001b[0m\u001b[1;33m)\u001b[0m\u001b[1;33m\u001b[0m\u001b[1;33m\u001b[0m\u001b[0m\n\u001b[1;32m---> 45\u001b[1;33m         \u001b[0mfold_importance_df\u001b[0m\u001b[1;33m[\u001b[0m\u001b[1;34m\"fold\"\u001b[0m\u001b[1;33m]\u001b[0m \u001b[1;33m=\u001b[0m \u001b[0mfold_\u001b[0m \u001b[1;33m+\u001b[0m \u001b[1;36m1\u001b[0m\u001b[1;33m\u001b[0m\u001b[1;33m\u001b[0m\u001b[0m\n\u001b[0m\u001b[0;32m     46\u001b[0m \u001b[1;33m\u001b[0m\u001b[0m\n\u001b[0;32m     47\u001b[0m         \u001b[0mresult\u001b[0m \u001b[1;33m+=\u001b[0m\u001b[0mmodel\u001b[0m\u001b[1;33m.\u001b[0m\u001b[0mpredict\u001b[0m\u001b[1;33m(\u001b[0m\u001b[0mtest\u001b[0m\u001b[1;33m)\u001b[0m\u001b[1;33m\u001b[0m\u001b[1;33m\u001b[0m\u001b[0m\n",
      "\u001b[1;31mNameError\u001b[0m: name 'fold_' is not defined"
     ]
    }
   ],
   "source": [
    "sort_fold_importance_df = feat_imp(train)\n",
    "drop_features = sort_fold_importance_df[sort_fold_importance_df['importance'] < 1]['feature']\n",
    "train.drop(drop_features, inplace = True, axis = 1)\n",
    "test.drop(drop_features, inplace = True, axis = 1)\n",
    "cat_feat = list(set(cat_feat) - set(drop_features))"
   ]
  },
  {
   "cell_type": "markdown",
   "metadata": {
    "hidden": true
   },
   "source": [
    "### Correlated Features"
   ]
  },
  {
   "cell_type": "code",
   "execution_count": null,
   "metadata": {
    "hidden": true
   },
   "outputs": [],
   "source": [
    "# Threshold for removing correlated variables\n",
    "threshold = 0.9\n",
    "\n",
    "# Absolute value correlation matrix\n",
    "corr_matrix = train.corr().abs()\n",
    "corr_matrix.head()"
   ]
  },
  {
   "cell_type": "code",
   "execution_count": null,
   "metadata": {
    "hidden": true
   },
   "outputs": [],
   "source": [
    "# Upper triangle of correlations\n",
    "upper = corr_matrix.where(np.triu(np.ones(corr_matrix.shape), k=1).astype(np.bool))\n",
    "upper.head()"
   ]
  },
  {
   "cell_type": "code",
   "execution_count": null,
   "metadata": {
    "hidden": true
   },
   "outputs": [],
   "source": [
    "# Select columns with correlations above threshold\n",
    "to_drop = [column for column in upper.columns if any(upper[column] > threshold)]\n",
    "\n",
    "print('There are %d columns to remove.' % (len(to_drop)))"
   ]
  },
  {
   "cell_type": "code",
   "execution_count": null,
   "metadata": {
    "hidden": true
   },
   "outputs": [],
   "source": [
    "train = train.drop(columns = to_drop)\n",
    "test = test.drop(columns = to_drop)\n",
    "\n",
    "print('Training shape: ', train.shape)\n",
    "print('Testing shape: ', test.shape)"
   ]
  },
  {
   "cell_type": "markdown",
   "metadata": {
    "hidden": true
   },
   "source": [
    "### Feature Importance"
   ]
  },
  {
   "cell_type": "code",
   "execution_count": null,
   "metadata": {
    "hidden": true
   },
   "outputs": [],
   "source": [
    "# Initialize an empty array to hold feature importances\n",
    "feature_importances = np.zeros(train.shape[1])\n",
    "\n",
    "# Create the model with several hyperparameters\n",
    "model = lgb.LGBMClassifier(objective='binary', boosting_type = 'goss', n_estimators = 10000, class_weight = 'balanced')"
   ]
  },
  {
   "cell_type": "code",
   "execution_count": null,
   "metadata": {
    "hidden": true
   },
   "outputs": [],
   "source": [
    "# Fit the model twice to avoid overfitting\n",
    "for i in range(2):\n",
    "    \n",
    "    # Split into training and validation set\n",
    "    train_features, valid_features, train_y, valid_y = train_test_split(train, train_labels, test_size = 0.25, random_state = i)\n",
    "    \n",
    "    # Train using early stopping\n",
    "    model.fit(train_features, train_y, early_stopping_rounds=100, eval_set = [(valid_features, valid_y)], \n",
    "              eval_metric = 'auc', verbose = 200)\n",
    "    \n",
    "    # Record the feature importances\n",
    "    feature_importances += model.feature_importances_"
   ]
  },
  {
   "cell_type": "code",
   "execution_count": null,
   "metadata": {
    "hidden": true
   },
   "outputs": [],
   "source": [
    "# Make sure to average feature importances! \n",
    "feature_importances = feature_importances / 2\n",
    "feature_importances = pd.DataFrame({'feature': list(train.columns), 'importance': feature_importances}).sort_values('importance', ascending = False)\n",
    "\n",
    "feature_importances.head()"
   ]
  },
  {
   "cell_type": "code",
   "execution_count": null,
   "metadata": {
    "hidden": true
   },
   "outputs": [],
   "source": [
    "# Find the features with zero importance\n",
    "zero_features = list(feature_importances[feature_importances['importance'] == 0.0]['feature'])\n",
    "print('There are %d features with 0.0 importance' % len(zero_features))\n",
    "feature_importances.tail()"
   ]
  },
  {
   "cell_type": "code",
   "execution_count": null,
   "metadata": {
    "hidden": true
   },
   "outputs": [],
   "source": [
    "def plot_feature_importances(df, threshold = 0.9):\n",
    "    \"\"\"\n",
    "    Plots 15 most important features and the cumulative importance of features.\n",
    "    Prints the number of features needed to reach threshold cumulative importance.\n",
    "    \n",
    "    Parameters\n",
    "    --------\n",
    "    df : dataframe\n",
    "        Dataframe of feature importances. Columns must be feature and importance\n",
    "    threshold : float, default = 0.9\n",
    "        Threshold for prining information about cumulative importances\n",
    "        \n",
    "    Return\n",
    "    --------\n",
    "    df : dataframe\n",
    "        Dataframe ordered by feature importances with a normalized column (sums to 1)\n",
    "        and a cumulative importance column\n",
    "    \n",
    "    \"\"\"\n",
    "    \n",
    "    plt.rcParams['font.size'] = 18\n",
    "    \n",
    "    # Sort features according to importance\n",
    "    df = df.sort_values('importance', ascending = False).reset_index()\n",
    "    \n",
    "    # Normalize the feature importances to add up to one\n",
    "    df['importance_normalized'] = df['importance'] / df['importance'].sum()\n",
    "    df['cumulative_importance'] = np.cumsum(df['importance_normalized'])\n",
    "\n",
    "    # Make a horizontal bar chart of feature importances\n",
    "    plt.figure(figsize = (10, 6))\n",
    "    ax = plt.subplot()\n",
    "    \n",
    "    # Need to reverse the index to plot most important on top\n",
    "    ax.barh(list(reversed(list(df.index[:15]))), \n",
    "            df['importance_normalized'].head(15), \n",
    "            align = 'center', edgecolor = 'k')\n",
    "    \n",
    "    # Set the yticks and labels\n",
    "    ax.set_yticks(list(reversed(list(df.index[:15]))))\n",
    "    ax.set_yticklabels(df['feature'].head(15))\n",
    "    \n",
    "    # Plot labeling\n",
    "    plt.xlabel('Normalized Importance'); plt.title('Feature Importances')\n",
    "    plt.show()\n",
    "    \n",
    "    # Cumulative importance plot\n",
    "    plt.figure(figsize = (8, 6))\n",
    "    plt.plot(list(range(len(df))), df['cumulative_importance'], 'r-')\n",
    "    plt.xlabel('Number of Features'); plt.ylabel('Cumulative Importance'); \n",
    "    plt.title('Cumulative Feature Importance');\n",
    "    plt.show();\n",
    "    \n",
    "    importance_index = np.min(np.where(df['cumulative_importance'] > threshold))\n",
    "    print('%d features required for %0.2f of cumulative importance' % (importance_index + 1, threshold))\n",
    "    \n",
    "    return df"
   ]
  },
  {
   "cell_type": "code",
   "execution_count": null,
   "metadata": {
    "hidden": true
   },
   "outputs": [],
   "source": [
    "norm_feature_importances = plot_feature_importances(feature_importances)"
   ]
  },
  {
   "cell_type": "code",
   "execution_count": null,
   "metadata": {
    "hidden": true
   },
   "outputs": [],
   "source": [
    "train = train.drop(columns = zero_features)\n",
    "test = test.drop(columns = zero_features)\n",
    "\n",
    "print('Training shape: ', train.shape)\n",
    "print('Testing shape: ', test.shape)"
   ]
  },
  {
   "cell_type": "code",
   "execution_count": null,
   "metadata": {
    "hidden": true
   },
   "outputs": [],
   "source": [
    "def identify_zero_importance_features(train, train_labels, iterations = 2):\n",
    "    \"\"\"\n",
    "    Identify zero importance features in a training dataset based on the \n",
    "    feature importances from a gradient boosting model. \n",
    "    \n",
    "    Parameters\n",
    "    --------\n",
    "    train : dataframe\n",
    "        Training features\n",
    "        \n",
    "    train_labels : np.array\n",
    "        Labels for training data\n",
    "        \n",
    "    iterations : integer, default = 2\n",
    "        Number of cross validation splits to use for determining feature importances\n",
    "    \"\"\"\n",
    "    \n",
    "    # Initialize an empty array to hold feature importances\n",
    "    feature_importances = np.zeros(train.shape[1])\n",
    "\n",
    "    # Create the model with several hyperparameters\n",
    "    model = lgb.LGBMClassifier(objective='binary', boosting_type = 'goss', n_estimators = 10000, class_weight = 'balanced')\n",
    "    \n",
    "    # Fit the model multiple times to avoid overfitting\n",
    "    for i in range(iterations):\n",
    "\n",
    "        # Split into training and validation set\n",
    "        train_features, valid_features, train_y, valid_y = train_test_split(train, train_labels, test_size = 0.25, random_state = i)\n",
    "\n",
    "        # Train using early stopping\n",
    "        model.fit(train_features, train_y, early_stopping_rounds=100, eval_set = [(valid_features, valid_y)], \n",
    "                  eval_metric = 'auc', verbose = 200)\n",
    "\n",
    "        # Record the feature importances\n",
    "        feature_importances += model.feature_importances_ / iterations\n",
    "    \n",
    "    feature_importances = pd.DataFrame({'feature': list(train.columns), 'importance': feature_importances}).sort_values('importance', ascending = False)\n",
    "    \n",
    "    # Find the features with zero importance\n",
    "    zero_features = list(feature_importances[feature_importances['importance'] == 0.0]['feature'])\n",
    "    print('\\nThere are %d features with 0.0 importance' % len(zero_features))\n",
    "    \n",
    "    return zero_features, feature_importances"
   ]
  },
  {
   "cell_type": "code",
   "execution_count": null,
   "metadata": {
    "hidden": true
   },
   "outputs": [],
   "source": [
    "second_round_zero_features, feature_importances = identify_zero_importance_features(train, train_labels)"
   ]
  },
  {
   "cell_type": "code",
   "execution_count": null,
   "metadata": {
    "hidden": true
   },
   "outputs": [],
   "source": [
    "norm_feature_importances = plot_feature_importances(feature_importances, threshold = 0.95)"
   ]
  },
  {
   "cell_type": "code",
   "execution_count": null,
   "metadata": {
    "hidden": true
   },
   "outputs": [],
   "source": [
    "# Threshold for cumulative importance\n",
    "threshold = 0.95\n",
    "\n",
    "# Extract the features to keep\n",
    "features_to_keep = list(norm_feature_importances[norm_feature_importances['cumulative_importance'] < threshold]['feature'])\n",
    "\n",
    "# Create new datasets with smaller features\n",
    "train_small = train[features_to_keep]\n",
    "test_small = test[features_to_keep]"
   ]
  },
  {
   "cell_type": "code",
   "execution_count": null,
   "metadata": {
    "hidden": true
   },
   "outputs": [],
   "source": [
    "train_small['TARGET'] = train_labels\n",
    "train_small['SK_ID_CURR'] = train_ids\n",
    "test_small['SK_ID_CURR'] = test_ids\n",
    "\n",
    "train_small.to_csv('m_train_small.csv', index = False)\n",
    "test_small.to_csv('m_test_small.csv', index = False)"
   ]
  },
  {
   "cell_type": "code",
   "execution_count": null,
   "metadata": {
    "hidden": true
   },
   "outputs": [],
   "source": []
  },
  {
   "cell_type": "code",
   "execution_count": null,
   "metadata": {
    "hidden": true
   },
   "outputs": [],
   "source": []
  },
  {
   "cell_type": "markdown",
   "metadata": {},
   "source": [
    "# Model"
   ]
  },
  {
   "cell_type": "code",
   "execution_count": 40,
   "metadata": {
    "code_folding": []
   },
   "outputs": [],
   "source": [
    "param = {\n",
    "    \"is_unbalance\" : True,\n",
    "    \"objective\" : \"binary\",\n",
    "    \"metric\" : \"auc\",\n",
    "    \"boosting\": 'gbdt',\n",
    "    \"max_depth\" : -1,\n",
    "    \"num_leaves\" : 13,\n",
    "    \"learning_rate\" : 0.004,\n",
    "    \"bagging_freq\": 5,\n",
    "    \"bagging_fraction\" : 0.4,\n",
    "    \"feature_fraction\" : 0.05,\n",
    "    \"min_data_in_leaf\": 80,\n",
    "    \"min_sum_heassian_in_leaf\": 10,\n",
    "    \"tree_learner\": \"serial\",\n",
    "    \"boost_from_average\": \"false\",\n",
    "    \"bagging_seed\" : 10,\n",
    "    \"verbosity\" : 1,\n",
    "    \"lambda_l1\" : 0.5, \n",
    "    \"lambda_l2\" : 0.5\n",
    "    #\"categorical_feature\" : cat_feat\n",
    "#    \"scale_pos_weight\" : scale_pos_weight\n",
    "}"
   ]
  },
  {
   "cell_type": "code",
   "execution_count": 198,
   "metadata": {},
   "outputs": [
    {
     "data": {
      "text/plain": [
       "{'loan_default'}"
      ]
     },
     "execution_count": 198,
     "metadata": {},
     "output_type": "execute_result"
    }
   ],
   "source": [
    "set(train.columns) - set(test.columns)"
   ]
  },
  {
   "cell_type": "code",
   "execution_count": 42,
   "metadata": {},
   "outputs": [],
   "source": [
    "#train['loan_default'] = train['loan_default'] * 100"
   ]
  },
  {
   "cell_type": "code",
   "execution_count": 66,
   "metadata": {},
   "outputs": [
    {
     "data": {
      "text/html": [
       "<div>\n",
       "<style scoped>\n",
       "    .dataframe tbody tr th:only-of-type {\n",
       "        vertical-align: middle;\n",
       "    }\n",
       "\n",
       "    .dataframe tbody tr th {\n",
       "        vertical-align: top;\n",
       "    }\n",
       "\n",
       "    .dataframe thead th {\n",
       "        text-align: right;\n",
       "    }\n",
       "</style>\n",
       "<table border=\"1\" class=\"dataframe\">\n",
       "  <thead>\n",
       "    <tr style=\"text-align: right;\">\n",
       "      <th></th>\n",
       "      <th>UniqueID</th>\n",
       "      <th>disbursed_amount</th>\n",
       "      <th>asset_cost</th>\n",
       "      <th>ltv</th>\n",
       "      <th>branch_id</th>\n",
       "      <th>supplier_id</th>\n",
       "      <th>manufacturer_id</th>\n",
       "      <th>Current_pincode_ID</th>\n",
       "      <th>Date.of.Birth</th>\n",
       "      <th>Employment.Type</th>\n",
       "      <th>...</th>\n",
       "      <th>asset_cost*PRIMARY.INSTAL.AMT</th>\n",
       "      <th>asset_cost/PRIMARY.INSTAL.AMT</th>\n",
       "      <th>asset_cost-SEC.DISBURSED.AMOUNT</th>\n",
       "      <th>asset_cost+SEC.DISBURSED.AMOUNT</th>\n",
       "      <th>asset_cost*SEC.DISBURSED.AMOUNT</th>\n",
       "      <th>asset_cost/SEC.DISBURSED.AMOUNT</th>\n",
       "      <th>asset_cost-PRI.SANCTIONED.AMOUNT</th>\n",
       "      <th>asset_cost+PRI.SANCTIONED.AMOUNT</th>\n",
       "      <th>asset_cost*PRI.SANCTIONED.AMOUNT</th>\n",
       "      <th>asset_cost/PRI.SANCTIONED.AMOUNT</th>\n",
       "    </tr>\n",
       "  </thead>\n",
       "  <tbody>\n",
       "    <tr>\n",
       "      <th>0</th>\n",
       "      <td>420825</td>\n",
       "      <td>50578.0</td>\n",
       "      <td>58400.0</td>\n",
       "      <td>89.55</td>\n",
       "      <td>67</td>\n",
       "      <td>22807</td>\n",
       "      <td>45</td>\n",
       "      <td>1441</td>\n",
       "      <td>1984</td>\n",
       "      <td>0.0</td>\n",
       "      <td>...</td>\n",
       "      <td>0.0</td>\n",
       "      <td>0.000000</td>\n",
       "      <td>58400.0</td>\n",
       "      <td>58400.0</td>\n",
       "      <td>0.0</td>\n",
       "      <td>0.0</td>\n",
       "      <td>58400.0</td>\n",
       "      <td>58400.0</td>\n",
       "      <td>0.000000e+00</td>\n",
       "      <td>0.000000</td>\n",
       "    </tr>\n",
       "    <tr>\n",
       "      <th>1</th>\n",
       "      <td>537409</td>\n",
       "      <td>47145.0</td>\n",
       "      <td>65550.0</td>\n",
       "      <td>73.23</td>\n",
       "      <td>67</td>\n",
       "      <td>22807</td>\n",
       "      <td>45</td>\n",
       "      <td>1502</td>\n",
       "      <td>1985</td>\n",
       "      <td>1.0</td>\n",
       "      <td>...</td>\n",
       "      <td>130510050.0</td>\n",
       "      <td>32.923154</td>\n",
       "      <td>65550.0</td>\n",
       "      <td>65550.0</td>\n",
       "      <td>0.0</td>\n",
       "      <td>0.0</td>\n",
       "      <td>15350.0</td>\n",
       "      <td>115750.0</td>\n",
       "      <td>3.290610e+09</td>\n",
       "      <td>1.305777</td>\n",
       "    </tr>\n",
       "    <tr>\n",
       "      <th>2</th>\n",
       "      <td>417566</td>\n",
       "      <td>53278.0</td>\n",
       "      <td>61360.0</td>\n",
       "      <td>89.63</td>\n",
       "      <td>67</td>\n",
       "      <td>22807</td>\n",
       "      <td>45</td>\n",
       "      <td>1497</td>\n",
       "      <td>1985</td>\n",
       "      <td>1.0</td>\n",
       "      <td>...</td>\n",
       "      <td>0.0</td>\n",
       "      <td>0.000000</td>\n",
       "      <td>61360.0</td>\n",
       "      <td>61360.0</td>\n",
       "      <td>0.0</td>\n",
       "      <td>0.0</td>\n",
       "      <td>61360.0</td>\n",
       "      <td>61360.0</td>\n",
       "      <td>0.000000e+00</td>\n",
       "      <td>0.000000</td>\n",
       "    </tr>\n",
       "    <tr>\n",
       "      <th>3</th>\n",
       "      <td>624493</td>\n",
       "      <td>57513.0</td>\n",
       "      <td>66113.0</td>\n",
       "      <td>88.48</td>\n",
       "      <td>67</td>\n",
       "      <td>22807</td>\n",
       "      <td>45</td>\n",
       "      <td>1501</td>\n",
       "      <td>1993</td>\n",
       "      <td>1.0</td>\n",
       "      <td>...</td>\n",
       "      <td>2049503.0</td>\n",
       "      <td>2132.677419</td>\n",
       "      <td>66113.0</td>\n",
       "      <td>66113.0</td>\n",
       "      <td>0.0</td>\n",
       "      <td>0.0</td>\n",
       "      <td>66113.0</td>\n",
       "      <td>66113.0</td>\n",
       "      <td>0.000000e+00</td>\n",
       "      <td>0.000000</td>\n",
       "    </tr>\n",
       "    <tr>\n",
       "      <th>4</th>\n",
       "      <td>539055</td>\n",
       "      <td>52378.0</td>\n",
       "      <td>60300.0</td>\n",
       "      <td>88.39</td>\n",
       "      <td>67</td>\n",
       "      <td>22807</td>\n",
       "      <td>45</td>\n",
       "      <td>1495</td>\n",
       "      <td>1977</td>\n",
       "      <td>1.0</td>\n",
       "      <td>...</td>\n",
       "      <td>0.0</td>\n",
       "      <td>0.000000</td>\n",
       "      <td>60300.0</td>\n",
       "      <td>60300.0</td>\n",
       "      <td>0.0</td>\n",
       "      <td>0.0</td>\n",
       "      <td>60300.0</td>\n",
       "      <td>60300.0</td>\n",
       "      <td>0.000000e+00</td>\n",
       "      <td>0.000000</td>\n",
       "    </tr>\n",
       "  </tbody>\n",
       "</table>\n",
       "<p>5 rows × 619 columns</p>\n",
       "</div>"
      ],
      "text/plain": [
       "   UniqueID  disbursed_amount  asset_cost    ltv branch_id  supplier_id  \\\n",
       "0    420825           50578.0     58400.0  89.55        67        22807   \n",
       "1    537409           47145.0     65550.0  73.23        67        22807   \n",
       "2    417566           53278.0     61360.0  89.63        67        22807   \n",
       "3    624493           57513.0     66113.0  88.48        67        22807   \n",
       "4    539055           52378.0     60300.0  88.39        67        22807   \n",
       "\n",
       "  manufacturer_id  Current_pincode_ID  Date.of.Birth Employment.Type  \\\n",
       "0              45                1441           1984             0.0   \n",
       "1              45                1502           1985             1.0   \n",
       "2              45                1497           1985             1.0   \n",
       "3              45                1501           1993             1.0   \n",
       "4              45                1495           1977             1.0   \n",
       "\n",
       "                 ...                asset_cost*PRIMARY.INSTAL.AMT  \\\n",
       "0                ...                                          0.0   \n",
       "1                ...                                  130510050.0   \n",
       "2                ...                                          0.0   \n",
       "3                ...                                    2049503.0   \n",
       "4                ...                                          0.0   \n",
       "\n",
       "   asset_cost/PRIMARY.INSTAL.AMT asset_cost-SEC.DISBURSED.AMOUNT  \\\n",
       "0                       0.000000                         58400.0   \n",
       "1                      32.923154                         65550.0   \n",
       "2                       0.000000                         61360.0   \n",
       "3                    2132.677419                         66113.0   \n",
       "4                       0.000000                         60300.0   \n",
       "\n",
       "  asset_cost+SEC.DISBURSED.AMOUNT asset_cost*SEC.DISBURSED.AMOUNT  \\\n",
       "0                         58400.0                             0.0   \n",
       "1                         65550.0                             0.0   \n",
       "2                         61360.0                             0.0   \n",
       "3                         66113.0                             0.0   \n",
       "4                         60300.0                             0.0   \n",
       "\n",
       "  asset_cost/SEC.DISBURSED.AMOUNT asset_cost-PRI.SANCTIONED.AMOUNT  \\\n",
       "0                             0.0                          58400.0   \n",
       "1                             0.0                          15350.0   \n",
       "2                             0.0                          61360.0   \n",
       "3                             0.0                          66113.0   \n",
       "4                             0.0                          60300.0   \n",
       "\n",
       "   asset_cost+PRI.SANCTIONED.AMOUNT  asset_cost*PRI.SANCTIONED.AMOUNT  \\\n",
       "0                           58400.0                      0.000000e+00   \n",
       "1                          115750.0                      3.290610e+09   \n",
       "2                           61360.0                      0.000000e+00   \n",
       "3                           66113.0                      0.000000e+00   \n",
       "4                           60300.0                      0.000000e+00   \n",
       "\n",
       "   asset_cost/PRI.SANCTIONED.AMOUNT  \n",
       "0                          0.000000  \n",
       "1                          1.305777  \n",
       "2                          0.000000  \n",
       "3                          0.000000  \n",
       "4                          0.000000  \n",
       "\n",
       "[5 rows x 619 columns]"
      ]
     },
     "execution_count": 66,
     "metadata": {},
     "output_type": "execute_result"
    }
   ],
   "source": [
    "train.head()"
   ]
  },
  {
   "cell_type": "code",
   "execution_count": 49,
   "metadata": {
    "hide_input": false,
    "scrolled": true
   },
   "outputs": [],
   "source": [
    "# %%time\n",
    "# result=np.zeros(test.shape[0])\n",
    "\n",
    "# rskf = RepeatedStratifiedKFold(n_splits=2, n_repeats=2, random_state=10)\n",
    "# for counter,(train_index, valid_index) in enumerate(rskf.split(train, train.loan_default),1):\n",
    "#     print (counter)\n",
    "    \n",
    "#     #Train data\n",
    "#     t=train.iloc[train_index]\n",
    "#     #t =augment(t)\n",
    "#     trn_data = lgb.Dataset(t.drop(\"loan_default\",axis=1), label=t.loan_default)\n",
    "        \n",
    "#     #Validation data\n",
    "#     v=train.iloc[valid_index]\n",
    "#     val_data = lgb.Dataset(v.drop(\"loan_default\",axis=1), label=v.loan_default)\n",
    "    \n",
    "#     #Training\n",
    "#     model = lgb.train(param, trn_data, 100000, valid_sets = [val_data], verbose_eval=1, early_stopping_rounds = 3000)\n",
    "    \n",
    "#     result +=model.predict(test)"
   ]
  },
  {
   "cell_type": "code",
   "execution_count": 199,
   "metadata": {},
   "outputs": [],
   "source": [
    "def train_model(data_, test_, y_, folds_):\n",
    "\n",
    "    oof_preds = np.zeros(data_.shape[0])\n",
    "    sub_preds = np.zeros(test_.shape[0])\n",
    "    \n",
    "    feature_importance_df = pd.DataFrame()\n",
    "    \n",
    "    feats = [f for f in data_.columns if f not in ['UniqueID']]\n",
    "    \n",
    "    for n_fold, (trn_idx, val_idx) in enumerate(folds_.split(data_)):\n",
    "        trn_x, trn_y = data_[feats].iloc[trn_idx], y_.iloc[trn_idx]\n",
    "        val_x, val_y = data_[feats].iloc[val_idx], y_.iloc[val_idx]\n",
    "        \n",
    "        clf = LGBMClassifier(\n",
    "            n_estimators=4000,\n",
    "            learning_rate=0.03,\n",
    "            num_leaves=30,\n",
    "            colsample_bytree=.8,\n",
    "            subsample=.9,\n",
    "            max_depth=7,\n",
    "            reg_alpha=.1,\n",
    "            reg_lambda=.1,\n",
    "            min_split_gain=.01,\n",
    "            min_child_weight=2,\n",
    "            silent=-1,\n",
    "            verbose=-1,\n",
    "        )\n",
    "        \n",
    "        clf.fit(trn_x, trn_y, \n",
    "                eval_set= [(trn_x, trn_y), (val_x, val_y)], \n",
    "                eval_metric='auc', verbose=100, early_stopping_rounds=100  #30\n",
    "               )\n",
    "        \n",
    "        oof_preds[val_idx] = clf.predict_proba(val_x, num_iteration=clf.best_iteration_)[:, 1]\n",
    "        sub_preds += clf.predict_proba(test_[feats], num_iteration=clf.best_iteration_)[:, 1] / folds_.n_splits\n",
    "        \n",
    " #      fold_importance_df = pd.DataFrame()\n",
    " #       fold_importance_df[\"feature\"] = feats\n",
    "        \n",
    "        print(len(feats), len(clf.feature_importances_))\n",
    "        \n",
    "#        fold_importance_df[\"importance\"] = clf.feature_importances_\n",
    "#        fold_importance_df[\"fold\"] = n_fold + 1\n",
    "#        feature_importance_df = pd.concat([feature_importance_df, fold_importance_df], axis=0)\n",
    "        \n",
    "        print('Fold %2d AUC : %.6f' % (n_fold + 1, roc_auc_score(val_y, oof_preds[val_idx])))\n",
    "        del clf, trn_x, trn_y, val_x, val_y\n",
    "        gc.collect()\n",
    "        \n",
    "    print('Full AUC score %.6f' % roc_auc_score(y, oof_preds)) \n",
    "    \n",
    "    test_['loan_default'] = sub_preds\n",
    "\n",
    "    return test_[['UniqueID', 'loan_default']]"
   ]
  },
  {
   "cell_type": "code",
   "execution_count": 200,
   "metadata": {},
   "outputs": [],
   "source": [
    "def display_importances(feature_importance_df_):\n",
    "    # Plot feature importances\n",
    "    cols = feature_importance_df_[[\"feature\", \"importance\"]].groupby(\"feature\").mean().sort_values(\n",
    "        by=\"importance\", ascending=False)[:50].index\n",
    "    \n",
    "    best_features = feature_importance_df_.loc[feature_importance_df_.feature.isin(cols)]\n",
    "    \n",
    "    plt.figure(figsize=(8,10))\n",
    "    sns.barplot(x=\"importance\", y=\"feature\", \n",
    "                data=best_features.sort_values(by=\"importance\", ascending=False))\n",
    "    plt.title('LightGBM Features (avg over folds)')\n",
    "    plt.tight_layout()\n",
    "    plt.savefig('lgbm_importances.png')"
   ]
  },
  {
   "cell_type": "code",
   "execution_count": 201,
   "metadata": {},
   "outputs": [],
   "source": [
    "def display_roc_curve(y_, oof_preds_, folds_idx_):\n",
    "    # Plot ROC curves\n",
    "    plt.figure(figsize=(6,6))\n",
    "    scores = [] \n",
    "    for n_fold, (_, val_idx) in enumerate(folds_idx_):  \n",
    "        # Plot the roc curve\n",
    "        fpr, tpr, thresholds = roc_curve(y_.iloc[val_idx], oof_preds_[val_idx])\n",
    "        score = roc_auc_score(y_.iloc[val_idx], oof_preds_[val_idx])\n",
    "        scores.append(score)\n",
    "        plt.plot(fpr, tpr, lw=1, alpha=0.3, label='ROC fold %d (AUC = %0.4f)' % (n_fold + 1, score))\n",
    "    \n",
    "    plt.plot([0, 1], [0, 1], linestyle='--', lw=2, color='r', label='Luck', alpha=.8)\n",
    "    fpr, tpr, thresholds = roc_curve(y_, oof_preds_)\n",
    "    score = roc_auc_score(y_, oof_preds_)\n",
    "    plt.plot(fpr, tpr, color='b',\n",
    "             label='Avg ROC (AUC = %0.4f $\\pm$ %0.4f)' % (score, np.std(scores)),\n",
    "             lw=2, alpha=.8)\n",
    "    \n",
    "    plt.xlim([-0.05, 1.05])\n",
    "    plt.ylim([-0.05, 1.05])\n",
    "    plt.xlabel('False Positive Rate')\n",
    "    plt.ylabel('True Positive Rate')\n",
    "    plt.title('LightGBM ROC Curve')\n",
    "    plt.legend(loc=\"lower right\")\n",
    "    plt.tight_layout()\n",
    "    \n",
    "    plt.savefig('roc_curve.png')"
   ]
  },
  {
   "cell_type": "code",
   "execution_count": 202,
   "metadata": {},
   "outputs": [],
   "source": [
    "def display_precision_recall(y_, oof_preds_, folds_idx_):\n",
    "    # Plot ROC curves\n",
    "    plt.figure(figsize=(6,6))\n",
    "    \n",
    "    scores = [] \n",
    "    for n_fold, (_, val_idx) in enumerate(folds_idx_):  \n",
    "        # Plot the roc curve\n",
    "        fpr, tpr, thresholds = roc_curve(y_.iloc[val_idx], oof_preds_[val_idx])\n",
    "        score = average_precision_score(y_.iloc[val_idx], oof_preds_[val_idx])\n",
    "        scores.append(score)\n",
    "        plt.plot(fpr, tpr, lw=1, alpha=0.3, label='AP fold %d (AUC = %0.4f)' % (n_fold + 1, score))\n",
    "    \n",
    "    precision, recall, thresholds = precision_recall_curve(y_, oof_preds_)\n",
    "    score = average_precision_score(y_, oof_preds_)\n",
    "    plt.plot(precision, recall, color='b',\n",
    "             label='Avg ROC (AUC = %0.4f $\\pm$ %0.4f)' % (score, np.std(scores)),\n",
    "             lw=2, alpha=.8)\n",
    "    \n",
    "    plt.xlim([-0.05, 1.05])\n",
    "    plt.ylim([-0.05, 1.05])\n",
    "    plt.xlabel('Recall')\n",
    "    plt.ylabel('Precision')\n",
    "    plt.title('LightGBM Recall / Precision')\n",
    "    plt.legend(loc=\"best\")\n",
    "    plt.tight_layout()\n",
    "    \n",
    "    plt.savefig('recall_precision_curve.png')"
   ]
  },
  {
   "cell_type": "code",
   "execution_count": 204,
   "metadata": {
    "scrolled": false
   },
   "outputs": [
    {
     "name": "stdout",
     "output_type": "stream",
     "text": [
      "Wall time: 0 ns\n",
      "Training until validation scores don't improve for 100 rounds.\n",
      "[100]\ttraining's auc: 0.690878\ttraining's binary_logloss: 0.487283\tvalid_1's auc: 0.673133\tvalid_1's binary_logloss: 0.493306\n",
      "[200]\ttraining's auc: 0.710787\ttraining's binary_logloss: 0.477155\tvalid_1's auc: 0.679733\tvalid_1's binary_logloss: 0.489207\n",
      "[300]\ttraining's auc: 0.725878\ttraining's binary_logloss: 0.470161\tvalid_1's auc: 0.681971\tvalid_1's binary_logloss: 0.487984\n",
      "[400]\ttraining's auc: 0.738457\ttraining's binary_logloss: 0.464564\tvalid_1's auc: 0.682631\tvalid_1's binary_logloss: 0.487592\n",
      "[500]\ttraining's auc: 0.749883\ttraining's binary_logloss: 0.459415\tvalid_1's auc: 0.682884\tvalid_1's binary_logloss: 0.487414\n",
      "[600]\ttraining's auc: 0.760075\ttraining's binary_logloss: 0.454701\tvalid_1's auc: 0.682988\tvalid_1's binary_logloss: 0.487343\n",
      "Early stopping, best iteration is:\n",
      "[578]\ttraining's auc: 0.758012\ttraining's binary_logloss: 0.455672\tvalid_1's auc: 0.683127\tvalid_1's binary_logloss: 0.487298\n",
      "618 1158\n",
      "Fold  1 AUC : 0.683127\n",
      "Training until validation scores don't improve for 100 rounds.\n",
      "[100]\ttraining's auc: 0.692524\ttraining's binary_logloss: 0.48661\tvalid_1's auc: 0.665876\tvalid_1's binary_logloss: 0.495691\n",
      "[200]\ttraining's auc: 0.712476\ttraining's binary_logloss: 0.476351\tvalid_1's auc: 0.672324\tvalid_1's binary_logloss: 0.492101\n",
      "[300]\ttraining's auc: 0.72697\ttraining's binary_logloss: 0.469443\tvalid_1's auc: 0.674487\tvalid_1's binary_logloss: 0.491093\n",
      "[400]\ttraining's auc: 0.739294\ttraining's binary_logloss: 0.463863\tvalid_1's auc: 0.675069\tvalid_1's binary_logloss: 0.490802\n",
      "[500]\ttraining's auc: 0.750507\ttraining's binary_logloss: 0.458705\tvalid_1's auc: 0.675235\tvalid_1's binary_logloss: 0.490739\n",
      "[600]\ttraining's auc: 0.760661\ttraining's binary_logloss: 0.453913\tvalid_1's auc: 0.675595\tvalid_1's binary_logloss: 0.49064\n",
      "[700]\ttraining's auc: 0.770066\ttraining's binary_logloss: 0.449373\tvalid_1's auc: 0.675882\tvalid_1's binary_logloss: 0.490548\n",
      "[800]\ttraining's auc: 0.778881\ttraining's binary_logloss: 0.444987\tvalid_1's auc: 0.676101\tvalid_1's binary_logloss: 0.490518\n",
      "[900]\ttraining's auc: 0.78718\ttraining's binary_logloss: 0.440754\tvalid_1's auc: 0.675867\tvalid_1's binary_logloss: 0.490691\n",
      "Early stopping, best iteration is:\n",
      "[805]\ttraining's auc: 0.779286\ttraining's binary_logloss: 0.444783\tvalid_1's auc: 0.676128\tvalid_1's binary_logloss: 0.490507\n",
      "618 1158\n",
      "Fold  2 AUC : 0.676128\n",
      "Training until validation scores don't improve for 100 rounds.\n",
      "[100]\ttraining's auc: 0.691625\ttraining's binary_logloss: 0.487163\tvalid_1's auc: 0.669961\tvalid_1's binary_logloss: 0.493865\n",
      "[200]\ttraining's auc: 0.711868\ttraining's binary_logloss: 0.476969\tvalid_1's auc: 0.677626\tvalid_1's binary_logloss: 0.489619\n",
      "[300]\ttraining's auc: 0.726502\ttraining's binary_logloss: 0.470055\tvalid_1's auc: 0.680095\tvalid_1's binary_logloss: 0.488302\n",
      "[400]\ttraining's auc: 0.738794\ttraining's binary_logloss: 0.464483\tvalid_1's auc: 0.680918\tvalid_1's binary_logloss: 0.487898\n",
      "[500]\ttraining's auc: 0.749738\ttraining's binary_logloss: 0.459548\tvalid_1's auc: 0.681124\tvalid_1's binary_logloss: 0.487768\n",
      "[600]\ttraining's auc: 0.75995\ttraining's binary_logloss: 0.454778\tvalid_1's auc: 0.681343\tvalid_1's binary_logloss: 0.487637\n",
      "[700]\ttraining's auc: 0.769494\ttraining's binary_logloss: 0.450266\tvalid_1's auc: 0.681318\tvalid_1's binary_logloss: 0.487596\n",
      "[800]\ttraining's auc: 0.778555\ttraining's binary_logloss: 0.445844\tvalid_1's auc: 0.681367\tvalid_1's binary_logloss: 0.487562\n",
      "Early stopping, best iteration is:\n",
      "[732]\ttraining's auc: 0.772486\ttraining's binary_logloss: 0.448813\tvalid_1's auc: 0.681427\tvalid_1's binary_logloss: 0.487547\n",
      "618 1158\n",
      "Fold  3 AUC : 0.681427\n",
      "Training until validation scores don't improve for 100 rounds.\n",
      "[100]\ttraining's auc: 0.692813\ttraining's binary_logloss: 0.48701\tvalid_1's auc: 0.664523\tvalid_1's binary_logloss: 0.494017\n",
      "[200]\ttraining's auc: 0.712824\ttraining's binary_logloss: 0.476732\tvalid_1's auc: 0.67084\tvalid_1's binary_logloss: 0.490578\n",
      "[300]\ttraining's auc: 0.727848\ttraining's binary_logloss: 0.469707\tvalid_1's auc: 0.673155\tvalid_1's binary_logloss: 0.489492\n",
      "[400]\ttraining's auc: 0.73992\ttraining's binary_logloss: 0.464203\tvalid_1's auc: 0.673579\tvalid_1's binary_logloss: 0.489319\n",
      "[500]\ttraining's auc: 0.750647\ttraining's binary_logloss: 0.459328\tvalid_1's auc: 0.673996\tvalid_1's binary_logloss: 0.489187\n",
      "[600]\ttraining's auc: 0.760304\ttraining's binary_logloss: 0.454742\tvalid_1's auc: 0.674494\tvalid_1's binary_logloss: 0.489004\n",
      "[700]\ttraining's auc: 0.76977\ttraining's binary_logloss: 0.450219\tvalid_1's auc: 0.674594\tvalid_1's binary_logloss: 0.488994\n",
      "Early stopping, best iteration is:\n",
      "[645]\ttraining's auc: 0.764667\ttraining's binary_logloss: 0.452668\tvalid_1's auc: 0.674661\tvalid_1's binary_logloss: 0.488959\n",
      "618 1158\n",
      "Fold  4 AUC : 0.674661\n",
      "Training until validation scores don't improve for 100 rounds.\n",
      "[100]\ttraining's auc: 0.691812\ttraining's binary_logloss: 0.487334\tvalid_1's auc: 0.670418\tvalid_1's binary_logloss: 0.492578\n",
      "[200]\ttraining's auc: 0.711979\ttraining's binary_logloss: 0.477075\tvalid_1's auc: 0.677403\tvalid_1's binary_logloss: 0.488482\n",
      "[300]\ttraining's auc: 0.726531\ttraining's binary_logloss: 0.470141\tvalid_1's auc: 0.679751\tvalid_1's binary_logloss: 0.487214\n",
      "[400]\ttraining's auc: 0.738886\ttraining's binary_logloss: 0.464547\tvalid_1's auc: 0.680184\tvalid_1's binary_logloss: 0.486942\n",
      "[500]\ttraining's auc: 0.750019\ttraining's binary_logloss: 0.459468\tvalid_1's auc: 0.680556\tvalid_1's binary_logloss: 0.486742\n",
      "[600]\ttraining's auc: 0.760149\ttraining's binary_logloss: 0.454752\tvalid_1's auc: 0.680731\tvalid_1's binary_logloss: 0.48663\n",
      "[700]\ttraining's auc: 0.769622\ttraining's binary_logloss: 0.450261\tvalid_1's auc: 0.680574\tvalid_1's binary_logloss: 0.486689\n",
      "Early stopping, best iteration is:\n",
      "[631]\ttraining's auc: 0.763136\ttraining's binary_logloss: 0.453338\tvalid_1's auc: 0.680745\tvalid_1's binary_logloss: 0.486622\n",
      "618 1158\n",
      "Fold  5 AUC : 0.680745\n",
      "Full AUC score 0.679207\n"
     ]
    }
   ],
   "source": [
    "%time\n",
    "\n",
    "#gc.enable()\n",
    "# Create Folds\n",
    "y = train['loan_default']\n",
    "del train['loan_default']\n",
    "#del train['UniqueID']\n",
    "folds = KFold(n_splits=5, shuffle=True, random_state=546789)\n",
    "# Train model and get oof and test predictions\n",
    "test_preds = train_model(train, test, y, folds)\n",
    "# Save test predictions\n",
    "test_preds.to_csv('submission.csv', index=False)\n"
   ]
  },
  {
   "cell_type": "code",
   "execution_count": 208,
   "metadata": {},
   "outputs": [],
   "source": [
    "test_preds.to_csv('submit_final.csv', index = False)"
   ]
  },
  {
   "cell_type": "code",
   "execution_count": 155,
   "metadata": {},
   "outputs": [
    {
     "data": {
      "text/plain": [
       "(Index(['UniqueID', 'disbursed_amount', 'asset_cost', 'ltv', 'branch_id',\n",
       "        'supplier_id', 'manufacturer_id', 'Current_pincode_ID', 'Date.of.Birth',\n",
       "        'Employment.Type',\n",
       "        ...\n",
       "        'asset_cost*PRIMARY.INSTAL.AMT', 'asset_cost/PRIMARY.INSTAL.AMT',\n",
       "        'asset_cost-SEC.DISBURSED.AMOUNT', 'asset_cost+SEC.DISBURSED.AMOUNT',\n",
       "        'asset_cost*SEC.DISBURSED.AMOUNT', 'asset_cost/SEC.DISBURSED.AMOUNT',\n",
       "        'asset_cost-PRI.SANCTIONED.AMOUNT', 'asset_cost+PRI.SANCTIONED.AMOUNT',\n",
       "        'asset_cost*PRI.SANCTIONED.AMOUNT', 'asset_cost/PRI.SANCTIONED.AMOUNT'],\n",
       "       dtype='object', length=619),\n",
       " Index(['UniqueID', 'disbursed_amount', 'asset_cost', 'ltv', 'branch_id',\n",
       "        'supplier_id', 'manufacturer_id', 'Current_pincode_ID', 'Date.of.Birth',\n",
       "        'Employment.Type',\n",
       "        ...\n",
       "        'asset_cost*PRIMARY.INSTAL.AMT', 'asset_cost/PRIMARY.INSTAL.AMT',\n",
       "        'asset_cost-SEC.DISBURSED.AMOUNT', 'asset_cost+SEC.DISBURSED.AMOUNT',\n",
       "        'asset_cost*SEC.DISBURSED.AMOUNT', 'asset_cost/SEC.DISBURSED.AMOUNT',\n",
       "        'asset_cost-PRI.SANCTIONED.AMOUNT', 'asset_cost+PRI.SANCTIONED.AMOUNT',\n",
       "        'asset_cost*PRI.SANCTIONED.AMOUNT', 'asset_cost/PRI.SANCTIONED.AMOUNT'],\n",
       "       dtype='object', length=619))"
      ]
     },
     "execution_count": 155,
     "metadata": {},
     "output_type": "execute_result"
    }
   ],
   "source": [
    "train.columns , test.columns"
   ]
  },
  {
   "cell_type": "code",
   "execution_count": 81,
   "metadata": {},
   "outputs": [
    {
     "data": {
      "text/plain": [
       "(233154, 91)"
      ]
     },
     "execution_count": 81,
     "metadata": {},
     "output_type": "execute_result"
    }
   ],
   "source": [
    "train.shape"
   ]
  },
  {
   "cell_type": "markdown",
   "metadata": {
    "heading_collapsed": true
   },
   "source": [
    "# Prediction analysis"
   ]
  },
  {
   "cell_type": "code",
   "execution_count": null,
   "metadata": {
    "hidden": true
   },
   "outputs": [],
   "source": [
    "preds = result / counter\n",
    "target = y_test.values"
   ]
  },
  {
   "cell_type": "code",
   "execution_count": null,
   "metadata": {
    "hidden": true
   },
   "outputs": [],
   "source": [
    "preds, target"
   ]
  },
  {
   "cell_type": "code",
   "execution_count": null,
   "metadata": {
    "hidden": true
   },
   "outputs": [],
   "source": [
    "test['preds'] = preds\n",
    "test['target'] = target"
   ]
  },
  {
   "cell_type": "code",
   "execution_count": null,
   "metadata": {
    "hidden": true
   },
   "outputs": [],
   "source": [
    "test.head()"
   ]
  },
  {
   "cell_type": "code",
   "execution_count": null,
   "metadata": {
    "hidden": true
   },
   "outputs": [],
   "source": [
    "test['diff'] = abs(test['preds'] - test['target'])"
   ]
  },
  {
   "cell_type": "code",
   "execution_count": null,
   "metadata": {
    "hidden": true
   },
   "outputs": [],
   "source": [
    "test['diff'].hist()"
   ]
  },
  {
   "cell_type": "code",
   "execution_count": null,
   "metadata": {
    "hidden": true
   },
   "outputs": [],
   "source": [
    "test['preds'].hist()"
   ]
  },
  {
   "cell_type": "code",
   "execution_count": null,
   "metadata": {
    "hidden": true
   },
   "outputs": [],
   "source": [
    "test['preds'].hist()"
   ]
  },
  {
   "cell_type": "code",
   "execution_count": null,
   "metadata": {
    "hidden": true
   },
   "outputs": [],
   "source": [
    "test['target'].hist()"
   ]
  },
  {
   "cell_type": "code",
   "execution_count": null,
   "metadata": {
    "hidden": true
   },
   "outputs": [],
   "source": [
    "wrong_idx = test['diff'] >= 0.6"
   ]
  },
  {
   "cell_type": "code",
   "execution_count": null,
   "metadata": {
    "hidden": true
   },
   "outputs": [],
   "source": [
    "right_idx = test['diff'] < 0.6 "
   ]
  },
  {
   "cell_type": "code",
   "execution_count": null,
   "metadata": {
    "hidden": true
   },
   "outputs": [],
   "source": [
    "test[right_idx]['target'].value_counts()"
   ]
  },
  {
   "cell_type": "code",
   "execution_count": null,
   "metadata": {
    "hidden": true
   },
   "outputs": [],
   "source": [
    "test[wrong_idx]['target'].value_counts()"
   ]
  },
  {
   "cell_type": "code",
   "execution_count": null,
   "metadata": {
    "hidden": true
   },
   "outputs": [],
   "source": [
    "test[right_idx]['target'].value_counts()"
   ]
  },
  {
   "cell_type": "code",
   "execution_count": null,
   "metadata": {
    "hidden": true
   },
   "outputs": [],
   "source": [
    "test[wrong_idx]['target'].value_counts()"
   ]
  },
  {
   "cell_type": "code",
   "execution_count": null,
   "metadata": {
    "hidden": true
   },
   "outputs": [],
   "source": [
    "sns.relplot(x='disbursed_amount', y='ltv', data=test[wrong_idx], style='target', hue='target')"
   ]
  },
  {
   "cell_type": "code",
   "execution_count": null,
   "metadata": {
    "hidden": true
   },
   "outputs": [],
   "source": [
    "sns.relplot(x='disbursed_amount', y='ltv', data=test[right_idx], style='target', hue='target')"
   ]
  },
  {
   "cell_type": "code",
   "execution_count": null,
   "metadata": {
    "hidden": true
   },
   "outputs": [],
   "source": [
    "sns.relplot(x='disbursed_amount', y='ltv', data=train, style='loan_default', hue='loan_default')"
   ]
  },
  {
   "cell_type": "code",
   "execution_count": null,
   "metadata": {
    "hidden": true
   },
   "outputs": [],
   "source": [
    "descript_mean = pd.DataFrame( {'right' : test[right_idx].describe().loc['mean'] , 'wrong' :\n",
    "test[wrong_idx].describe().loc['mean']}, index = test[right_idx].describe().columns)"
   ]
  },
  {
   "cell_type": "code",
   "execution_count": null,
   "metadata": {
    "hidden": true
   },
   "outputs": [],
   "source": [
    "test[wrong_idx].describe()"
   ]
  },
  {
   "cell_type": "markdown",
   "metadata": {},
   "source": [
    "# Submission"
   ]
  },
  {
   "cell_type": "code",
   "execution_count": 47,
   "metadata": {
    "scrolled": true
   },
   "outputs": [
    {
     "data": {
      "text/html": [
       "<div>\n",
       "<style scoped>\n",
       "    .dataframe tbody tr th:only-of-type {\n",
       "        vertical-align: middle;\n",
       "    }\n",
       "\n",
       "    .dataframe tbody tr th {\n",
       "        vertical-align: top;\n",
       "    }\n",
       "\n",
       "    .dataframe thead th {\n",
       "        text-align: right;\n",
       "    }\n",
       "</style>\n",
       "<table border=\"1\" class=\"dataframe\">\n",
       "  <thead>\n",
       "    <tr style=\"text-align: right;\">\n",
       "      <th></th>\n",
       "      <th>UniqueID</th>\n",
       "      <th>loan_default</th>\n",
       "    </tr>\n",
       "  </thead>\n",
       "  <tbody>\n",
       "    <tr>\n",
       "      <th>0</th>\n",
       "      <td>655269</td>\n",
       "      <td>0.635585</td>\n",
       "    </tr>\n",
       "    <tr>\n",
       "      <th>1</th>\n",
       "      <td>723482</td>\n",
       "      <td>0.677375</td>\n",
       "    </tr>\n",
       "    <tr>\n",
       "      <th>2</th>\n",
       "      <td>758529</td>\n",
       "      <td>0.719217</td>\n",
       "    </tr>\n",
       "    <tr>\n",
       "      <th>3</th>\n",
       "      <td>763449</td>\n",
       "      <td>0.677392</td>\n",
       "    </tr>\n",
       "    <tr>\n",
       "      <th>4</th>\n",
       "      <td>708663</td>\n",
       "      <td>0.703904</td>\n",
       "    </tr>\n",
       "  </tbody>\n",
       "</table>\n",
       "</div>"
      ],
      "text/plain": [
       "   UniqueID  loan_default\n",
       "0    655269      0.635585\n",
       "1    723482      0.677375\n",
       "2    758529      0.719217\n",
       "3    763449      0.677392\n",
       "4    708663      0.703904"
      ]
     },
     "execution_count": 47,
     "metadata": {},
     "output_type": "execute_result"
    }
   ],
   "source": [
    "submission = pd.read_csv('sample_submission.csv')\n",
    "submission['loan_default'] = result/counter\n",
    "submission.head()"
   ]
  },
  {
   "cell_type": "code",
   "execution_count": 207,
   "metadata": {},
   "outputs": [
    {
     "data": {
      "text/plain": [
       "<matplotlib.axes._subplots.AxesSubplot at 0x2d1157ff940>"
      ]
     },
     "execution_count": 207,
     "metadata": {},
     "output_type": "execute_result"
    },
    {
     "data": {
      "image/png": "[encoded data removed]",
      "text/plain": [
       "<Figure size 432x288 with 1 Axes>"
      ]
     },
     "metadata": {},
     "output_type": "display_data"
    }
   ],
   "source": [
    "test_preds.loan_default.hist()"
   ]
  },
  {
   "cell_type": "code",
   "execution_count": 46,
   "metadata": {},
   "outputs": [],
   "source": [
    "filename=\"{:%Y-%m-%d_%H_%M}_sub.csv\".format(datetime.now())\n",
    "submission.to_csv(filename, index=False)"
   ]
  },
  {
   "cell_type": "code",
   "execution_count": 213,
   "metadata": {},
   "outputs": [
    {
     "data": {
      "text/plain": [
       "array([[<matplotlib.axes._subplots.AxesSubplot object at 0x000002D1156A4CF8>,\n",
       "        <matplotlib.axes._subplots.AxesSubplot object at 0x000002D11688FB00>,\n",
       "        <matplotlib.axes._subplots.AxesSubplot object at 0x000002D11671A2E8>,\n",
       "        <matplotlib.axes._subplots.AxesSubplot object at 0x000002D1143A2F60>],\n",
       "       [<matplotlib.axes._subplots.AxesSubplot object at 0x000002D11573AF98>,\n",
       "        <matplotlib.axes._subplots.AxesSubplot object at 0x000002D1167FE630>,\n",
       "        <matplotlib.axes._subplots.AxesSubplot object at 0x000002D115D5EC88>,\n",
       "        <matplotlib.axes._subplots.AxesSubplot object at 0x000002D116680358>],\n",
       "       [<matplotlib.axes._subplots.AxesSubplot object at 0x000002D116680390>,\n",
       "        <matplotlib.axes._subplots.AxesSubplot object at 0x000002D1142F0FD0>,\n",
       "        <matplotlib.axes._subplots.AxesSubplot object at 0x000002D1140F2668>,\n",
       "        <matplotlib.axes._subplots.AxesSubplot object at 0x000002D1142AACC0>],\n",
       "       [<matplotlib.axes._subplots.AxesSubplot object at 0x000002D11433A358>,\n",
       "        <matplotlib.axes._subplots.AxesSubplot object at 0x000002D1158CF9B0>,\n",
       "        <matplotlib.axes._subplots.AxesSubplot object at 0x000002D115C8E048>,\n",
       "        <matplotlib.axes._subplots.AxesSubplot object at 0x000002D115E4E6A0>]],\n",
       "      dtype=object)"
      ]
     },
     "execution_count": 213,
     "metadata": {},
     "output_type": "execute_result"
    },
    {
     "data": {
      "image/png": "[encoded data removed]",
      "text/plain": [
       "<Figure size 3600x3600 with 16 Axes>"
      ]
     },
     "metadata": {},
     "output_type": "display_data"
    }
   ],
   "source": [
    "train[num_col].hist(figsize = (50, 50))"
   ]
  },
  {
   "cell_type": "code",
   "execution_count": 214,
   "metadata": {},
   "outputs": [
    {
     "data": {
      "text/plain": [
       "array([[<matplotlib.axes._subplots.AxesSubplot object at 0x000002D1169D3E10>,\n",
       "        <matplotlib.axes._subplots.AxesSubplot object at 0x000002D11AF8CDD8>,\n",
       "        <matplotlib.axes._subplots.AxesSubplot object at 0x000002D11B45A630>,\n",
       "        <matplotlib.axes._subplots.AxesSubplot object at 0x000002D116753F98>],\n",
       "       [<matplotlib.axes._subplots.AxesSubplot object at 0x000002D11685D940>,\n",
       "        <matplotlib.axes._subplots.AxesSubplot object at 0x000002D116A692E8>,\n",
       "        <matplotlib.axes._subplots.AxesSubplot object at 0x000002D11AF31C50>,\n",
       "        <matplotlib.axes._subplots.AxesSubplot object at 0x000002D11626A630>],\n",
       "       [<matplotlib.axes._subplots.AxesSubplot object at 0x000002D11626A668>,\n",
       "        <matplotlib.axes._subplots.AxesSubplot object at 0x000002D114905908>,\n",
       "        <matplotlib.axes._subplots.AxesSubplot object at 0x000002D1149262B0>,\n",
       "        <matplotlib.axes._subplots.AxesSubplot object at 0x000002D11493EC18>],\n",
       "       [<matplotlib.axes._subplots.AxesSubplot object at 0x000002D11495D5C0>,\n",
       "        <matplotlib.axes._subplots.AxesSubplot object at 0x000002D114977F28>,\n",
       "        <matplotlib.axes._subplots.AxesSubplot object at 0x000002D1149978D0>,\n",
       "        <matplotlib.axes._subplots.AxesSubplot object at 0x000002D1149B9278>]],\n",
       "      dtype=object)"
      ]
     },
     "execution_count": 214,
     "metadata": {},
     "output_type": "execute_result"
    },
    {
     "data": {
      "image/png": "[encoded data removed]",
      "text/plain": [
       "<Figure size 3600x3600 with 16 Axes>"
      ]
     },
     "metadata": {},
     "output_type": "display_data"
    }
   ],
   "source": [
    "test[num_col].hist(figsize = (50, 50))"
   ]
  },
  {
   "cell_type": "code",
   "execution_count": 228,
   "metadata": {},
   "outputs": [
    {
     "data": {
      "text/plain": [
       "<matplotlib.axes._subplots.AxesSubplot at 0x2d11d044be0>"
      ]
     },
     "execution_count": 228,
     "metadata": {},
     "output_type": "execute_result"
    },
    {
     "data": {
      "image/png": "[encoded data removed]",
      "text/plain": [
       "<Figure size 432x288 with 1 Axes>"
      ]
     },
     "metadata": {},
     "output_type": "display_data"
    }
   ],
   "source": [
    "test[test['SEC.CURRENT.BALANCE']<-550]['SEC.CURRENT.BALANCE'].hist()"
   ]
  },
  {
   "cell_type": "code",
   "execution_count": 224,
   "metadata": {},
   "outputs": [
    {
     "data": {
      "text/plain": [
       "<matplotlib.axes._subplots.AxesSubplot at 0x2d11dbb0c88>"
      ]
     },
     "execution_count": 224,
     "metadata": {},
     "output_type": "execute_result"
    },
    {
     "data": {
      "image/png": "[encoded data removed]",
      "text/plain": [
       "<Figure size 432x288 with 1 Axes>"
      ]
     },
     "metadata": {},
     "output_type": "display_data"
    }
   ],
   "source": [
    "train[abs(train['SEC.CURRENT.BALANCE'])>10]['SEC.CURRENT.BALANCE'].hist()"
   ]
  },
  {
   "cell_type": "code",
   "execution_count": 155,
   "metadata": {},
   "outputs": [
    {
     "data": {
      "text/plain": [
       "(Index(['UniqueID', 'disbursed_amount', 'asset_cost', 'ltv', 'branch_id',\n",
       "        'supplier_id', 'manufacturer_id', 'Current_pincode_ID', 'Date.of.Birth',\n",
       "        'Employment.Type',\n",
       "        ...\n",
       "        'asset_cost*PRIMARY.INSTAL.AMT', 'asset_cost/PRIMARY.INSTAL.AMT',\n",
       "        'asset_cost-SEC.DISBURSED.AMOUNT', 'asset_cost+SEC.DISBURSED.AMOUNT',\n",
       "        'asset_cost*SEC.DISBURSED.AMOUNT', 'asset_cost/SEC.DISBURSED.AMOUNT',\n",
       "        'asset_cost-PRI.SANCTIONED.AMOUNT', 'asset_cost+PRI.SANCTIONED.AMOUNT',\n",
       "        'asset_cost*PRI.SANCTIONED.AMOUNT', 'asset_cost/PRI.SANCTIONED.AMOUNT'],\n",
       "       dtype='object', length=619),\n",
       " Index(['UniqueID', 'disbursed_amount', 'asset_cost', 'ltv', 'branch_id',\n",
       "        'supplier_id', 'manufacturer_id', 'Current_pincode_ID', 'Date.of.Birth',\n",
       "        'Employment.Type',\n",
       "        ...\n",
       "        'asset_cost*PRIMARY.INSTAL.AMT', 'asset_cost/PRIMARY.INSTAL.AMT',\n",
       "        'asset_cost-SEC.DISBURSED.AMOUNT', 'asset_cost+SEC.DISBURSED.AMOUNT',\n",
       "        'asset_cost*SEC.DISBURSED.AMOUNT', 'asset_cost/SEC.DISBURSED.AMOUNT',\n",
       "        'asset_cost-PRI.SANCTIONED.AMOUNT', 'asset_cost+PRI.SANCTIONED.AMOUNT',\n",
       "        'asset_cost*PRI.SANCTIONED.AMOUNT', 'asset_cost/PRI.SANCTIONED.AMOUNT'],\n",
       "       dtype='object', length=619))"
      ]
     },
     "execution_count": 155,
     "metadata": {},
     "output_type": "execute_result"
    }
   ],
   "source": [
    "train.columns , test.columns"
   ]
  },
  {
   "cell_type": "code",
   "execution_count": null,
   "metadata": {},
   "outputs": [],
   "source": []
  },
  {
   "cell_type": "code",
   "execution_count": 155,
   "metadata": {},
   "outputs": [
    {
     "data": {
      "text/plain": [
       "(Index(['UniqueID', 'disbursed_amount', 'asset_cost', 'ltv', 'branch_id',\n",
       "        'supplier_id', 'manufacturer_id', 'Current_pincode_ID', 'Date.of.Birth',\n",
       "        'Employment.Type',\n",
       "        ...\n",
       "        'asset_cost*PRIMARY.INSTAL.AMT', 'asset_cost/PRIMARY.INSTAL.AMT',\n",
       "        'asset_cost-SEC.DISBURSED.AMOUNT', 'asset_cost+SEC.DISBURSED.AMOUNT',\n",
       "        'asset_cost*SEC.DISBURSED.AMOUNT', 'asset_cost/SEC.DISBURSED.AMOUNT',\n",
       "        'asset_cost-PRI.SANCTIONED.AMOUNT', 'asset_cost+PRI.SANCTIONED.AMOUNT',\n",
       "        'asset_cost*PRI.SANCTIONED.AMOUNT', 'asset_cost/PRI.SANCTIONED.AMOUNT'],\n",
       "       dtype='object', length=619),\n",
       " Index(['UniqueID', 'disbursed_amount', 'asset_cost', 'ltv', 'branch_id',\n",
       "        'supplier_id', 'manufacturer_id', 'Current_pincode_ID', 'Date.of.Birth',\n",
       "        'Employment.Type',\n",
       "        ...\n",
       "        'asset_cost*PRIMARY.INSTAL.AMT', 'asset_cost/PRIMARY.INSTAL.AMT',\n",
       "        'asset_cost-SEC.DISBURSED.AMOUNT', 'asset_cost+SEC.DISBURSED.AMOUNT',\n",
       "        'asset_cost*SEC.DISBURSED.AMOUNT', 'asset_cost/SEC.DISBURSED.AMOUNT',\n",
       "        'asset_cost-PRI.SANCTIONED.AMOUNT', 'asset_cost+PRI.SANCTIONED.AMOUNT',\n",
       "        'asset_cost*PRI.SANCTIONED.AMOUNT', 'asset_cost/PRI.SANCTIONED.AMOUNT'],\n",
       "       dtype='object', length=619))"
      ]
     },
     "execution_count": 155,
     "metadata": {},
     "output_type": "execute_result"
    }
   ],
   "source": [
    "train.columns , test.columns"
   ]
  },
  {
   "cell_type": "code",
   "execution_count": 216,
   "metadata": {},
   "outputs": [
    {
     "data": {
      "text/plain": [
       "count    233154.000000\n",
       "mean       2182.049816\n",
       "std       28932.710270\n",
       "min     -505283.191090\n",
       "25%           0.000000\n",
       "50%           0.000000\n",
       "75%           0.000000\n",
       "max      516138.776729\n",
       "Name: SEC.CURRENT.BALANCE, dtype: float64"
      ]
     },
     "execution_count": 216,
     "metadata": {},
     "output_type": "execute_result"
    }
   ],
   "source": [
    "train['SEC.CURRENT.BALANCE'].describe()"
   ]
  }
 ],
 "metadata": {
  "kernelspec": {
   "display_name": "Python 3",
   "language": "python",
   "name": "python3"
  },
  "language_info": {
   "codemirror_mode": {
    "name": "ipython",
    "version": 3
   },
   "file_extension": ".py",
   "mimetype": "text/x-python",
   "name": "python",
   "nbconvert_exporter": "python",
   "pygments_lexer": "ipython3",
   "version": "3.7.1"
  },
  "varInspector": {
   "cols": {
    "lenName": 16,
    "lenType": 16,
    "lenVar": 40
   },
   "kernels_config": {
    "python": {
     "delete_cmd_postfix": "",
     "delete_cmd_prefix": "del ",
     "library": "var_list.py",
     "varRefreshCmd": "print(var_dic_list())"
    },
    "r": {
     "delete_cmd_postfix": ") ",
     "delete_cmd_prefix": "rm(",
     "library": "var_list.r",
     "varRefreshCmd": "cat(var_dic_list()) "
    }
   },
   "types_to_exclude": [
    "module",
    "function",
    "builtin_function_or_method",
    "instance",
    "_Feature"
   ],
   "window_display": false
  }
 },
 "nbformat": 4,
 "nbformat_minor": 2
}
